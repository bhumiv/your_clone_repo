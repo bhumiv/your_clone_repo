{
 "cells": [
  {
   "cell_type": "code",
   "execution_count": 4,
   "id": "initial_id",
   "metadata": {
    "collapsed": true,
    "ExecuteTime": {
     "end_time": "2023-12-09T11:37:33.478830200Z",
     "start_time": "2023-12-09T11:37:33.421921500Z"
    }
   },
   "outputs": [
    {
     "data": {
      "text/plain": "   id_start   id_end  distance\n0   1001400  1001402       9.7\n1   1001402  1001404      20.2\n2   1001404  1001406      16.0\n3   1001406  1001408      21.7\n4   1001408  1001410      11.1",
      "text/html": "<div>\n<style scoped>\n    .dataframe tbody tr th:only-of-type {\n        vertical-align: middle;\n    }\n\n    .dataframe tbody tr th {\n        vertical-align: top;\n    }\n\n    .dataframe thead th {\n        text-align: right;\n    }\n</style>\n<table border=\"1\" class=\"dataframe\">\n  <thead>\n    <tr style=\"text-align: right;\">\n      <th></th>\n      <th>id_start</th>\n      <th>id_end</th>\n      <th>distance</th>\n    </tr>\n  </thead>\n  <tbody>\n    <tr>\n      <th>0</th>\n      <td>1001400</td>\n      <td>1001402</td>\n      <td>9.7</td>\n    </tr>\n    <tr>\n      <th>1</th>\n      <td>1001402</td>\n      <td>1001404</td>\n      <td>20.2</td>\n    </tr>\n    <tr>\n      <th>2</th>\n      <td>1001404</td>\n      <td>1001406</td>\n      <td>16.0</td>\n    </tr>\n    <tr>\n      <th>3</th>\n      <td>1001406</td>\n      <td>1001408</td>\n      <td>21.7</td>\n    </tr>\n    <tr>\n      <th>4</th>\n      <td>1001408</td>\n      <td>1001410</td>\n      <td>11.1</td>\n    </tr>\n  </tbody>\n</table>\n</div>"
     },
     "execution_count": 4,
     "metadata": {},
     "output_type": "execute_result"
    }
   ],
   "source": [
    "import pandas as pd\n",
    "file_path = \"C:\\\\Users\\\\Malli\\\\Downloads\\\\dataset-3.csv\"\n",
    "df = pd.read_csv(file_path)\n",
    "df.head()   \n"
   ]
  },
  {
   "cell_type": "code",
   "execution_count": 6,
   "outputs": [
    {
     "data": {
      "text/plain": "         1001400  1001402  1001404  1001406  1001408  1001410  1001412  \\\n1001400      0.0      9.7      0.0      0.0      0.0      0.0      0.0   \n1001402      9.7      0.0     20.2      0.0      0.0      0.0      0.0   \n1001404      0.0     20.2      0.0     16.0      0.0      0.0      0.0   \n1001406      0.0      0.0     16.0      0.0     21.7      0.0      0.0   \n1001408      0.0      0.0      0.0     21.7      0.0     11.1      0.0   \n1001410      0.0      0.0      0.0      0.0     11.1      0.0     15.6   \n1001412      0.0      0.0      0.0      0.0      0.0     15.6      0.0   \n1001414      0.0      0.0      0.0      0.0      0.0      0.0     18.2   \n1001416      0.0      0.0      0.0      0.0      0.0      0.0      0.0   \n1001418      0.0      0.0      0.0      0.0      0.0      0.0      0.0   \n1001420      0.0      0.0      0.0      0.0      0.0      0.0      0.0   \n1001422      0.0      0.0      0.0      0.0      0.0      0.0      0.0   \n1001424      0.0      0.0      0.0      0.0      0.0      0.0      0.0   \n1001426      0.0      0.0      0.0      0.0      0.0      0.0      0.0   \n1001428      0.0      0.0      0.0      0.0      0.0      0.0      0.0   \n1001430      0.0      0.0      0.0      0.0      0.0      0.0      0.0   \n1001432      0.0      0.0      0.0      0.0      0.0      0.0      0.0   \n1001434      0.0      0.0      0.0      0.0      0.0      0.0      0.0   \n1001436      0.0      0.0      0.0      0.0      0.0      0.0      0.0   \n1001437      0.0      0.0      0.0      0.0      0.0      0.0      0.0   \n1001438      0.0      0.0      0.0      0.0      0.0      0.0      0.0   \n1001440      0.0      0.0      0.0      0.0      0.0      0.0      0.0   \n1001442      0.0      0.0      0.0      0.0      0.0      0.0      0.0   \n1001444      0.0      0.0      0.0      0.0      0.0      0.0      0.0   \n1001446      0.0      0.0      0.0      0.0      0.0      0.0      0.0   \n1001448      0.0      0.0      0.0      0.0      0.0      0.0      0.0   \n1001450      0.0      0.0      0.0      0.0      0.0      0.0      0.0   \n1001452      0.0      0.0      0.0      0.0      0.0      0.0      0.0   \n1001454      0.0      0.0      0.0      0.0      0.0      0.0      0.0   \n1001456      0.0      0.0      0.0      0.0      0.0      0.0      0.0   \n1001458      0.0      0.0      0.0      0.0      0.0      0.0      0.0   \n1001460      0.0      0.0      0.0      0.0      0.0      0.0      0.0   \n1001461      0.0      0.0      0.0      0.0      0.0      0.0      0.0   \n1001462      0.0      0.0      0.0      0.0      0.0      0.0      0.0   \n1001464      0.0      0.0      0.0      0.0      0.0      0.0      0.0   \n1001466      0.0      0.0      0.0      0.0      0.0      0.0      0.0   \n1001468      0.0      0.0      0.0      0.0      0.0      0.0      0.0   \n1001470      0.0      0.0      0.0      0.0      0.0      0.0      0.0   \n1001472      0.0      0.0      0.0      0.0      0.0      0.0      0.0   \n1001488      0.0      0.0      0.0      0.0      0.0      0.0      0.0   \n1004354      0.0      0.0      0.0      0.0      0.0      0.0      0.0   \n1004355      0.0      0.0      0.0      0.0      0.0      0.0      0.0   \n1004356      0.0      0.0      0.0      0.0      0.0      0.0      0.0   \n\n         1001414  1001416  1001418  ...  1001462  1001464  1001466  1001468  \\\n1001400      0.0      0.0      0.0  ...      0.0      0.0      0.0      0.0   \n1001402      0.0      0.0      0.0  ...      0.0      0.0      0.0      0.0   \n1001404      0.0      0.0      0.0  ...      0.0      0.0      0.0      0.0   \n1001406      0.0      0.0      0.0  ...      0.0      0.0      0.0      0.0   \n1001408      0.0      0.0      0.0  ...      0.0      0.0      0.0      0.0   \n1001410      0.0      0.0      0.0  ...      0.0      0.0      0.0      0.0   \n1001412     18.2      0.0      0.0  ...      0.0      0.0      0.0      0.0   \n1001414      0.0     13.2      0.0  ...      0.0      0.0      0.0      0.0   \n1001416     13.2      0.0     13.6  ...      0.0      0.0      0.0      0.0   \n1001418      0.0     13.6      0.0  ...      0.0      0.0      0.0      0.0   \n1001420      0.0      0.0     12.9  ...      0.0      0.0      0.0      0.0   \n1001422      0.0      0.0      0.0  ...      0.0      0.0      0.0      0.0   \n1001424      0.0      0.0      0.0  ...      0.0      0.0      0.0      0.0   \n1001426      0.0      0.0      0.0  ...      0.0      0.0      0.0      0.0   \n1001428      0.0      0.0      0.0  ...      0.0      0.0      0.0      0.0   \n1001430      0.0      0.0      0.0  ...      0.0      0.0      0.0      0.0   \n1001432      0.0      0.0      0.0  ...      0.0      0.0      0.0      0.0   \n1001434      0.0      0.0      0.0  ...      0.0      0.0      0.0      0.0   \n1001436      0.0      0.0      0.0  ...      0.0      0.0      0.0      0.0   \n1001437      0.0      0.0      0.0  ...      0.0      0.0      0.0      0.0   \n1001438      0.0      0.0      0.0  ...      0.0      0.0      0.0      0.0   \n1001440      0.0      0.0      0.0  ...      0.0      0.0      0.0      0.0   \n1001442      0.0      0.0      0.0  ...      0.0      0.0      0.0      0.0   \n1001444      0.0      0.0      0.0  ...      0.0      0.0      0.0      0.0   \n1001446      0.0      0.0      0.0  ...      0.0      0.0      0.0      0.0   \n1001448      0.0      0.0      0.0  ...      0.0      0.0      0.0      0.0   \n1001450      0.0      0.0      0.0  ...      0.0      0.0      0.0      0.0   \n1001452      0.0      0.0      0.0  ...      0.0      0.0      0.0      0.0   \n1001454      0.0      0.0      0.0  ...      0.0      0.0      0.0      0.0   \n1001456      0.0      0.0      0.0  ...      0.0      0.0      0.0      0.0   \n1001458      0.0      0.0      0.0  ...      0.0      0.0      0.0      0.0   \n1001460      0.0      0.0      0.0  ...     17.9      0.0      0.0      0.0   \n1001461      0.0      0.0      0.0  ...      5.1      0.0      0.0      0.0   \n1001462      0.0      0.0      0.0  ...      0.0     26.7      0.0      0.0   \n1001464      0.0      0.0      0.0  ...     26.7      0.0      8.5      0.0   \n1001466      0.0      0.0      0.0  ...      0.0      8.5      0.0     10.7   \n1001468      0.0      0.0      0.0  ...      0.0      0.0     10.7      0.0   \n1001470      0.0      0.0      0.0  ...      0.0      0.0      0.0     10.6   \n1001472      0.0      0.0      0.0  ...      0.0      0.0      0.0      0.0   \n1001488      0.0      0.0      0.0  ...      0.0      0.0      0.0      0.0   \n1004354      0.0      0.0      0.0  ...      0.0      0.0      0.0      0.0   \n1004355      0.0      0.0      0.0  ...      0.0      0.0      0.0      0.0   \n1004356      0.0      0.0      0.0  ...      0.0      0.0      0.0      0.0   \n\n         1001470  1001472  1001488  1004354  1004355  1004356  \n1001400      0.0      0.0      0.0      0.0      0.0      0.0  \n1001402      0.0      0.0      0.0      0.0      0.0      0.0  \n1001404      0.0      0.0      0.0      0.0      0.0      0.0  \n1001406      0.0      0.0      0.0      0.0      0.0      0.0  \n1001408      0.0      0.0      0.0      0.0      0.0      0.0  \n1001410      0.0      0.0      0.0      0.0      0.0      0.0  \n1001412      0.0      0.0      0.0      0.0      0.0      0.0  \n1001414      0.0      0.0      0.0      0.0      0.0      0.0  \n1001416      0.0      0.0      0.0      0.0      0.0      0.0  \n1001418      0.0      0.0      0.0      0.0      0.0      0.0  \n1001420      0.0      0.0      0.0      0.0      0.0      0.0  \n1001422      0.0      0.0      0.0      0.0      0.0      0.0  \n1001424      0.0      0.0      0.0      0.0      0.0      0.0  \n1001426      0.0      0.0      0.0      0.0      0.0      0.0  \n1001428      0.0      0.0      0.0      0.0      0.0      0.0  \n1001430      0.0      0.0      0.0      0.0      0.0      0.0  \n1001432      0.0      0.0      0.0      0.0      0.0      0.0  \n1001434      0.0      0.0      0.0      0.0      0.0      0.0  \n1001436      0.0      0.0      0.0      0.0      0.0      0.0  \n1001437      0.0      0.0      0.0      0.0      0.0      0.0  \n1001438      0.0      0.0      0.0      0.0      0.0      0.0  \n1001440      0.0      0.0      0.0      0.0      0.0      0.0  \n1001442      0.0      0.0      4.5      0.0      0.0      0.0  \n1001444      0.0      0.0      0.0      0.0      0.7      0.0  \n1001446      0.0      0.0      0.0      0.0      0.0      0.0  \n1001448      0.0      0.0      0.0      0.0      0.0      0.0  \n1001450      0.0      0.0      0.0      0.0      0.0      0.0  \n1001452      0.0      0.0      0.0      0.0      0.0      0.0  \n1001454      0.0      0.0      0.0      0.0      0.0      0.0  \n1001456      0.0      0.0      0.0      0.0      0.0      0.0  \n1001458      0.0      0.0      0.0      0.0      0.0      0.0  \n1001460      0.0      0.0      0.0      0.0      0.0      0.0  \n1001461      0.0      0.0      0.0      0.0      0.0      0.0  \n1001462      0.0      0.0      0.0      0.0      0.0      0.0  \n1001464      0.0      0.0      0.0      0.0      0.0      0.0  \n1001466      0.0      0.0      0.0      0.0      0.0      0.0  \n1001468     10.6      0.0      0.0      0.0      0.0      0.0  \n1001470      0.0     16.0      0.0      0.0      0.0      0.0  \n1001472     16.0      0.0      0.0      0.0      0.0      0.0  \n1001488      0.0      0.0      0.0      0.0      0.0      4.0  \n1004354      0.0      0.0      0.0      0.0      2.0      2.0  \n1004355      0.0      0.0      0.0      2.0      0.0      0.0  \n1004356      0.0      0.0      4.0      2.0      0.0      0.0  \n\n[43 rows x 43 columns]",
      "text/html": "<div>\n<style scoped>\n    .dataframe tbody tr th:only-of-type {\n        vertical-align: middle;\n    }\n\n    .dataframe tbody tr th {\n        vertical-align: top;\n    }\n\n    .dataframe thead th {\n        text-align: right;\n    }\n</style>\n<table border=\"1\" class=\"dataframe\">\n  <thead>\n    <tr style=\"text-align: right;\">\n      <th></th>\n      <th>1001400</th>\n      <th>1001402</th>\n      <th>1001404</th>\n      <th>1001406</th>\n      <th>1001408</th>\n      <th>1001410</th>\n      <th>1001412</th>\n      <th>1001414</th>\n      <th>1001416</th>\n      <th>1001418</th>\n      <th>...</th>\n      <th>1001462</th>\n      <th>1001464</th>\n      <th>1001466</th>\n      <th>1001468</th>\n      <th>1001470</th>\n      <th>1001472</th>\n      <th>1001488</th>\n      <th>1004354</th>\n      <th>1004355</th>\n      <th>1004356</th>\n    </tr>\n  </thead>\n  <tbody>\n    <tr>\n      <th>1001400</th>\n      <td>0.0</td>\n      <td>9.7</td>\n      <td>0.0</td>\n      <td>0.0</td>\n      <td>0.0</td>\n      <td>0.0</td>\n      <td>0.0</td>\n      <td>0.0</td>\n      <td>0.0</td>\n      <td>0.0</td>\n      <td>...</td>\n      <td>0.0</td>\n      <td>0.0</td>\n      <td>0.0</td>\n      <td>0.0</td>\n      <td>0.0</td>\n      <td>0.0</td>\n      <td>0.0</td>\n      <td>0.0</td>\n      <td>0.0</td>\n      <td>0.0</td>\n    </tr>\n    <tr>\n      <th>1001402</th>\n      <td>9.7</td>\n      <td>0.0</td>\n      <td>20.2</td>\n      <td>0.0</td>\n      <td>0.0</td>\n      <td>0.0</td>\n      <td>0.0</td>\n      <td>0.0</td>\n      <td>0.0</td>\n      <td>0.0</td>\n      <td>...</td>\n      <td>0.0</td>\n      <td>0.0</td>\n      <td>0.0</td>\n      <td>0.0</td>\n      <td>0.0</td>\n      <td>0.0</td>\n      <td>0.0</td>\n      <td>0.0</td>\n      <td>0.0</td>\n      <td>0.0</td>\n    </tr>\n    <tr>\n      <th>1001404</th>\n      <td>0.0</td>\n      <td>20.2</td>\n      <td>0.0</td>\n      <td>16.0</td>\n      <td>0.0</td>\n      <td>0.0</td>\n      <td>0.0</td>\n      <td>0.0</td>\n      <td>0.0</td>\n      <td>0.0</td>\n      <td>...</td>\n      <td>0.0</td>\n      <td>0.0</td>\n      <td>0.0</td>\n      <td>0.0</td>\n      <td>0.0</td>\n      <td>0.0</td>\n      <td>0.0</td>\n      <td>0.0</td>\n      <td>0.0</td>\n      <td>0.0</td>\n    </tr>\n    <tr>\n      <th>1001406</th>\n      <td>0.0</td>\n      <td>0.0</td>\n      <td>16.0</td>\n      <td>0.0</td>\n      <td>21.7</td>\n      <td>0.0</td>\n      <td>0.0</td>\n      <td>0.0</td>\n      <td>0.0</td>\n      <td>0.0</td>\n      <td>...</td>\n      <td>0.0</td>\n      <td>0.0</td>\n      <td>0.0</td>\n      <td>0.0</td>\n      <td>0.0</td>\n      <td>0.0</td>\n      <td>0.0</td>\n      <td>0.0</td>\n      <td>0.0</td>\n      <td>0.0</td>\n    </tr>\n    <tr>\n      <th>1001408</th>\n      <td>0.0</td>\n      <td>0.0</td>\n      <td>0.0</td>\n      <td>21.7</td>\n      <td>0.0</td>\n      <td>11.1</td>\n      <td>0.0</td>\n      <td>0.0</td>\n      <td>0.0</td>\n      <td>0.0</td>\n      <td>...</td>\n      <td>0.0</td>\n      <td>0.0</td>\n      <td>0.0</td>\n      <td>0.0</td>\n      <td>0.0</td>\n      <td>0.0</td>\n      <td>0.0</td>\n      <td>0.0</td>\n      <td>0.0</td>\n      <td>0.0</td>\n    </tr>\n    <tr>\n      <th>1001410</th>\n      <td>0.0</td>\n      <td>0.0</td>\n      <td>0.0</td>\n      <td>0.0</td>\n      <td>11.1</td>\n      <td>0.0</td>\n      <td>15.6</td>\n      <td>0.0</td>\n      <td>0.0</td>\n      <td>0.0</td>\n      <td>...</td>\n      <td>0.0</td>\n      <td>0.0</td>\n      <td>0.0</td>\n      <td>0.0</td>\n      <td>0.0</td>\n      <td>0.0</td>\n      <td>0.0</td>\n      <td>0.0</td>\n      <td>0.0</td>\n      <td>0.0</td>\n    </tr>\n    <tr>\n      <th>1001412</th>\n      <td>0.0</td>\n      <td>0.0</td>\n      <td>0.0</td>\n      <td>0.0</td>\n      <td>0.0</td>\n      <td>15.6</td>\n      <td>0.0</td>\n      <td>18.2</td>\n      <td>0.0</td>\n      <td>0.0</td>\n      <td>...</td>\n      <td>0.0</td>\n      <td>0.0</td>\n      <td>0.0</td>\n      <td>0.0</td>\n      <td>0.0</td>\n      <td>0.0</td>\n      <td>0.0</td>\n      <td>0.0</td>\n      <td>0.0</td>\n      <td>0.0</td>\n    </tr>\n    <tr>\n      <th>1001414</th>\n      <td>0.0</td>\n      <td>0.0</td>\n      <td>0.0</td>\n      <td>0.0</td>\n      <td>0.0</td>\n      <td>0.0</td>\n      <td>18.2</td>\n      <td>0.0</td>\n      <td>13.2</td>\n      <td>0.0</td>\n      <td>...</td>\n      <td>0.0</td>\n      <td>0.0</td>\n      <td>0.0</td>\n      <td>0.0</td>\n      <td>0.0</td>\n      <td>0.0</td>\n      <td>0.0</td>\n      <td>0.0</td>\n      <td>0.0</td>\n      <td>0.0</td>\n    </tr>\n    <tr>\n      <th>1001416</th>\n      <td>0.0</td>\n      <td>0.0</td>\n      <td>0.0</td>\n      <td>0.0</td>\n      <td>0.0</td>\n      <td>0.0</td>\n      <td>0.0</td>\n      <td>13.2</td>\n      <td>0.0</td>\n      <td>13.6</td>\n      <td>...</td>\n      <td>0.0</td>\n      <td>0.0</td>\n      <td>0.0</td>\n      <td>0.0</td>\n      <td>0.0</td>\n      <td>0.0</td>\n      <td>0.0</td>\n      <td>0.0</td>\n      <td>0.0</td>\n      <td>0.0</td>\n    </tr>\n    <tr>\n      <th>1001418</th>\n      <td>0.0</td>\n      <td>0.0</td>\n      <td>0.0</td>\n      <td>0.0</td>\n      <td>0.0</td>\n      <td>0.0</td>\n      <td>0.0</td>\n      <td>0.0</td>\n      <td>13.6</td>\n      <td>0.0</td>\n      <td>...</td>\n      <td>0.0</td>\n      <td>0.0</td>\n      <td>0.0</td>\n      <td>0.0</td>\n      <td>0.0</td>\n      <td>0.0</td>\n      <td>0.0</td>\n      <td>0.0</td>\n      <td>0.0</td>\n      <td>0.0</td>\n    </tr>\n    <tr>\n      <th>1001420</th>\n      <td>0.0</td>\n      <td>0.0</td>\n      <td>0.0</td>\n      <td>0.0</td>\n      <td>0.0</td>\n      <td>0.0</td>\n      <td>0.0</td>\n      <td>0.0</td>\n      <td>0.0</td>\n      <td>12.9</td>\n      <td>...</td>\n      <td>0.0</td>\n      <td>0.0</td>\n      <td>0.0</td>\n      <td>0.0</td>\n      <td>0.0</td>\n      <td>0.0</td>\n      <td>0.0</td>\n      <td>0.0</td>\n      <td>0.0</td>\n      <td>0.0</td>\n    </tr>\n    <tr>\n      <th>1001422</th>\n      <td>0.0</td>\n      <td>0.0</td>\n      <td>0.0</td>\n      <td>0.0</td>\n      <td>0.0</td>\n      <td>0.0</td>\n      <td>0.0</td>\n      <td>0.0</td>\n      <td>0.0</td>\n      <td>0.0</td>\n      <td>...</td>\n      <td>0.0</td>\n      <td>0.0</td>\n      <td>0.0</td>\n      <td>0.0</td>\n      <td>0.0</td>\n      <td>0.0</td>\n      <td>0.0</td>\n      <td>0.0</td>\n      <td>0.0</td>\n      <td>0.0</td>\n    </tr>\n    <tr>\n      <th>1001424</th>\n      <td>0.0</td>\n      <td>0.0</td>\n      <td>0.0</td>\n      <td>0.0</td>\n      <td>0.0</td>\n      <td>0.0</td>\n      <td>0.0</td>\n      <td>0.0</td>\n      <td>0.0</td>\n      <td>0.0</td>\n      <td>...</td>\n      <td>0.0</td>\n      <td>0.0</td>\n      <td>0.0</td>\n      <td>0.0</td>\n      <td>0.0</td>\n      <td>0.0</td>\n      <td>0.0</td>\n      <td>0.0</td>\n      <td>0.0</td>\n      <td>0.0</td>\n    </tr>\n    <tr>\n      <th>1001426</th>\n      <td>0.0</td>\n      <td>0.0</td>\n      <td>0.0</td>\n      <td>0.0</td>\n      <td>0.0</td>\n      <td>0.0</td>\n      <td>0.0</td>\n      <td>0.0</td>\n      <td>0.0</td>\n      <td>0.0</td>\n      <td>...</td>\n      <td>0.0</td>\n      <td>0.0</td>\n      <td>0.0</td>\n      <td>0.0</td>\n      <td>0.0</td>\n      <td>0.0</td>\n      <td>0.0</td>\n      <td>0.0</td>\n      <td>0.0</td>\n      <td>0.0</td>\n    </tr>\n    <tr>\n      <th>1001428</th>\n      <td>0.0</td>\n      <td>0.0</td>\n      <td>0.0</td>\n      <td>0.0</td>\n      <td>0.0</td>\n      <td>0.0</td>\n      <td>0.0</td>\n      <td>0.0</td>\n      <td>0.0</td>\n      <td>0.0</td>\n      <td>...</td>\n      <td>0.0</td>\n      <td>0.0</td>\n      <td>0.0</td>\n      <td>0.0</td>\n      <td>0.0</td>\n      <td>0.0</td>\n      <td>0.0</td>\n      <td>0.0</td>\n      <td>0.0</td>\n      <td>0.0</td>\n    </tr>\n    <tr>\n      <th>1001430</th>\n      <td>0.0</td>\n      <td>0.0</td>\n      <td>0.0</td>\n      <td>0.0</td>\n      <td>0.0</td>\n      <td>0.0</td>\n      <td>0.0</td>\n      <td>0.0</td>\n      <td>0.0</td>\n      <td>0.0</td>\n      <td>...</td>\n      <td>0.0</td>\n      <td>0.0</td>\n      <td>0.0</td>\n      <td>0.0</td>\n      <td>0.0</td>\n      <td>0.0</td>\n      <td>0.0</td>\n      <td>0.0</td>\n      <td>0.0</td>\n      <td>0.0</td>\n    </tr>\n    <tr>\n      <th>1001432</th>\n      <td>0.0</td>\n      <td>0.0</td>\n      <td>0.0</td>\n      <td>0.0</td>\n      <td>0.0</td>\n      <td>0.0</td>\n      <td>0.0</td>\n      <td>0.0</td>\n      <td>0.0</td>\n      <td>0.0</td>\n      <td>...</td>\n      <td>0.0</td>\n      <td>0.0</td>\n      <td>0.0</td>\n      <td>0.0</td>\n      <td>0.0</td>\n      <td>0.0</td>\n      <td>0.0</td>\n      <td>0.0</td>\n      <td>0.0</td>\n      <td>0.0</td>\n    </tr>\n    <tr>\n      <th>1001434</th>\n      <td>0.0</td>\n      <td>0.0</td>\n      <td>0.0</td>\n      <td>0.0</td>\n      <td>0.0</td>\n      <td>0.0</td>\n      <td>0.0</td>\n      <td>0.0</td>\n      <td>0.0</td>\n      <td>0.0</td>\n      <td>...</td>\n      <td>0.0</td>\n      <td>0.0</td>\n      <td>0.0</td>\n      <td>0.0</td>\n      <td>0.0</td>\n      <td>0.0</td>\n      <td>0.0</td>\n      <td>0.0</td>\n      <td>0.0</td>\n      <td>0.0</td>\n    </tr>\n    <tr>\n      <th>1001436</th>\n      <td>0.0</td>\n      <td>0.0</td>\n      <td>0.0</td>\n      <td>0.0</td>\n      <td>0.0</td>\n      <td>0.0</td>\n      <td>0.0</td>\n      <td>0.0</td>\n      <td>0.0</td>\n      <td>0.0</td>\n      <td>...</td>\n      <td>0.0</td>\n      <td>0.0</td>\n      <td>0.0</td>\n      <td>0.0</td>\n      <td>0.0</td>\n      <td>0.0</td>\n      <td>0.0</td>\n      <td>0.0</td>\n      <td>0.0</td>\n      <td>0.0</td>\n    </tr>\n    <tr>\n      <th>1001437</th>\n      <td>0.0</td>\n      <td>0.0</td>\n      <td>0.0</td>\n      <td>0.0</td>\n      <td>0.0</td>\n      <td>0.0</td>\n      <td>0.0</td>\n      <td>0.0</td>\n      <td>0.0</td>\n      <td>0.0</td>\n      <td>...</td>\n      <td>0.0</td>\n      <td>0.0</td>\n      <td>0.0</td>\n      <td>0.0</td>\n      <td>0.0</td>\n      <td>0.0</td>\n      <td>0.0</td>\n      <td>0.0</td>\n      <td>0.0</td>\n      <td>0.0</td>\n    </tr>\n    <tr>\n      <th>1001438</th>\n      <td>0.0</td>\n      <td>0.0</td>\n      <td>0.0</td>\n      <td>0.0</td>\n      <td>0.0</td>\n      <td>0.0</td>\n      <td>0.0</td>\n      <td>0.0</td>\n      <td>0.0</td>\n      <td>0.0</td>\n      <td>...</td>\n      <td>0.0</td>\n      <td>0.0</td>\n      <td>0.0</td>\n      <td>0.0</td>\n      <td>0.0</td>\n      <td>0.0</td>\n      <td>0.0</td>\n      <td>0.0</td>\n      <td>0.0</td>\n      <td>0.0</td>\n    </tr>\n    <tr>\n      <th>1001440</th>\n      <td>0.0</td>\n      <td>0.0</td>\n      <td>0.0</td>\n      <td>0.0</td>\n      <td>0.0</td>\n      <td>0.0</td>\n      <td>0.0</td>\n      <td>0.0</td>\n      <td>0.0</td>\n      <td>0.0</td>\n      <td>...</td>\n      <td>0.0</td>\n      <td>0.0</td>\n      <td>0.0</td>\n      <td>0.0</td>\n      <td>0.0</td>\n      <td>0.0</td>\n      <td>0.0</td>\n      <td>0.0</td>\n      <td>0.0</td>\n      <td>0.0</td>\n    </tr>\n    <tr>\n      <th>1001442</th>\n      <td>0.0</td>\n      <td>0.0</td>\n      <td>0.0</td>\n      <td>0.0</td>\n      <td>0.0</td>\n      <td>0.0</td>\n      <td>0.0</td>\n      <td>0.0</td>\n      <td>0.0</td>\n      <td>0.0</td>\n      <td>...</td>\n      <td>0.0</td>\n      <td>0.0</td>\n      <td>0.0</td>\n      <td>0.0</td>\n      <td>0.0</td>\n      <td>0.0</td>\n      <td>4.5</td>\n      <td>0.0</td>\n      <td>0.0</td>\n      <td>0.0</td>\n    </tr>\n    <tr>\n      <th>1001444</th>\n      <td>0.0</td>\n      <td>0.0</td>\n      <td>0.0</td>\n      <td>0.0</td>\n      <td>0.0</td>\n      <td>0.0</td>\n      <td>0.0</td>\n      <td>0.0</td>\n      <td>0.0</td>\n      <td>0.0</td>\n      <td>...</td>\n      <td>0.0</td>\n      <td>0.0</td>\n      <td>0.0</td>\n      <td>0.0</td>\n      <td>0.0</td>\n      <td>0.0</td>\n      <td>0.0</td>\n      <td>0.0</td>\n      <td>0.7</td>\n      <td>0.0</td>\n    </tr>\n    <tr>\n      <th>1001446</th>\n      <td>0.0</td>\n      <td>0.0</td>\n      <td>0.0</td>\n      <td>0.0</td>\n      <td>0.0</td>\n      <td>0.0</td>\n      <td>0.0</td>\n      <td>0.0</td>\n      <td>0.0</td>\n      <td>0.0</td>\n      <td>...</td>\n      <td>0.0</td>\n      <td>0.0</td>\n      <td>0.0</td>\n      <td>0.0</td>\n      <td>0.0</td>\n      <td>0.0</td>\n      <td>0.0</td>\n      <td>0.0</td>\n      <td>0.0</td>\n      <td>0.0</td>\n    </tr>\n    <tr>\n      <th>1001448</th>\n      <td>0.0</td>\n      <td>0.0</td>\n      <td>0.0</td>\n      <td>0.0</td>\n      <td>0.0</td>\n      <td>0.0</td>\n      <td>0.0</td>\n      <td>0.0</td>\n      <td>0.0</td>\n      <td>0.0</td>\n      <td>...</td>\n      <td>0.0</td>\n      <td>0.0</td>\n      <td>0.0</td>\n      <td>0.0</td>\n      <td>0.0</td>\n      <td>0.0</td>\n      <td>0.0</td>\n      <td>0.0</td>\n      <td>0.0</td>\n      <td>0.0</td>\n    </tr>\n    <tr>\n      <th>1001450</th>\n      <td>0.0</td>\n      <td>0.0</td>\n      <td>0.0</td>\n      <td>0.0</td>\n      <td>0.0</td>\n      <td>0.0</td>\n      <td>0.0</td>\n      <td>0.0</td>\n      <td>0.0</td>\n      <td>0.0</td>\n      <td>...</td>\n      <td>0.0</td>\n      <td>0.0</td>\n      <td>0.0</td>\n      <td>0.0</td>\n      <td>0.0</td>\n      <td>0.0</td>\n      <td>0.0</td>\n      <td>0.0</td>\n      <td>0.0</td>\n      <td>0.0</td>\n    </tr>\n    <tr>\n      <th>1001452</th>\n      <td>0.0</td>\n      <td>0.0</td>\n      <td>0.0</td>\n      <td>0.0</td>\n      <td>0.0</td>\n      <td>0.0</td>\n      <td>0.0</td>\n      <td>0.0</td>\n      <td>0.0</td>\n      <td>0.0</td>\n      <td>...</td>\n      <td>0.0</td>\n      <td>0.0</td>\n      <td>0.0</td>\n      <td>0.0</td>\n      <td>0.0</td>\n      <td>0.0</td>\n      <td>0.0</td>\n      <td>0.0</td>\n      <td>0.0</td>\n      <td>0.0</td>\n    </tr>\n    <tr>\n      <th>1001454</th>\n      <td>0.0</td>\n      <td>0.0</td>\n      <td>0.0</td>\n      <td>0.0</td>\n      <td>0.0</td>\n      <td>0.0</td>\n      <td>0.0</td>\n      <td>0.0</td>\n      <td>0.0</td>\n      <td>0.0</td>\n      <td>...</td>\n      <td>0.0</td>\n      <td>0.0</td>\n      <td>0.0</td>\n      <td>0.0</td>\n      <td>0.0</td>\n      <td>0.0</td>\n      <td>0.0</td>\n      <td>0.0</td>\n      <td>0.0</td>\n      <td>0.0</td>\n    </tr>\n    <tr>\n      <th>1001456</th>\n      <td>0.0</td>\n      <td>0.0</td>\n      <td>0.0</td>\n      <td>0.0</td>\n      <td>0.0</td>\n      <td>0.0</td>\n      <td>0.0</td>\n      <td>0.0</td>\n      <td>0.0</td>\n      <td>0.0</td>\n      <td>...</td>\n      <td>0.0</td>\n      <td>0.0</td>\n      <td>0.0</td>\n      <td>0.0</td>\n      <td>0.0</td>\n      <td>0.0</td>\n      <td>0.0</td>\n      <td>0.0</td>\n      <td>0.0</td>\n      <td>0.0</td>\n    </tr>\n    <tr>\n      <th>1001458</th>\n      <td>0.0</td>\n      <td>0.0</td>\n      <td>0.0</td>\n      <td>0.0</td>\n      <td>0.0</td>\n      <td>0.0</td>\n      <td>0.0</td>\n      <td>0.0</td>\n      <td>0.0</td>\n      <td>0.0</td>\n      <td>...</td>\n      <td>0.0</td>\n      <td>0.0</td>\n      <td>0.0</td>\n      <td>0.0</td>\n      <td>0.0</td>\n      <td>0.0</td>\n      <td>0.0</td>\n      <td>0.0</td>\n      <td>0.0</td>\n      <td>0.0</td>\n    </tr>\n    <tr>\n      <th>1001460</th>\n      <td>0.0</td>\n      <td>0.0</td>\n      <td>0.0</td>\n      <td>0.0</td>\n      <td>0.0</td>\n      <td>0.0</td>\n      <td>0.0</td>\n      <td>0.0</td>\n      <td>0.0</td>\n      <td>0.0</td>\n      <td>...</td>\n      <td>17.9</td>\n      <td>0.0</td>\n      <td>0.0</td>\n      <td>0.0</td>\n      <td>0.0</td>\n      <td>0.0</td>\n      <td>0.0</td>\n      <td>0.0</td>\n      <td>0.0</td>\n      <td>0.0</td>\n    </tr>\n    <tr>\n      <th>1001461</th>\n      <td>0.0</td>\n      <td>0.0</td>\n      <td>0.0</td>\n      <td>0.0</td>\n      <td>0.0</td>\n      <td>0.0</td>\n      <td>0.0</td>\n      <td>0.0</td>\n      <td>0.0</td>\n      <td>0.0</td>\n      <td>...</td>\n      <td>5.1</td>\n      <td>0.0</td>\n      <td>0.0</td>\n      <td>0.0</td>\n      <td>0.0</td>\n      <td>0.0</td>\n      <td>0.0</td>\n      <td>0.0</td>\n      <td>0.0</td>\n      <td>0.0</td>\n    </tr>\n    <tr>\n      <th>1001462</th>\n      <td>0.0</td>\n      <td>0.0</td>\n      <td>0.0</td>\n      <td>0.0</td>\n      <td>0.0</td>\n      <td>0.0</td>\n      <td>0.0</td>\n      <td>0.0</td>\n      <td>0.0</td>\n      <td>0.0</td>\n      <td>...</td>\n      <td>0.0</td>\n      <td>26.7</td>\n      <td>0.0</td>\n      <td>0.0</td>\n      <td>0.0</td>\n      <td>0.0</td>\n      <td>0.0</td>\n      <td>0.0</td>\n      <td>0.0</td>\n      <td>0.0</td>\n    </tr>\n    <tr>\n      <th>1001464</th>\n      <td>0.0</td>\n      <td>0.0</td>\n      <td>0.0</td>\n      <td>0.0</td>\n      <td>0.0</td>\n      <td>0.0</td>\n      <td>0.0</td>\n      <td>0.0</td>\n      <td>0.0</td>\n      <td>0.0</td>\n      <td>...</td>\n      <td>26.7</td>\n      <td>0.0</td>\n      <td>8.5</td>\n      <td>0.0</td>\n      <td>0.0</td>\n      <td>0.0</td>\n      <td>0.0</td>\n      <td>0.0</td>\n      <td>0.0</td>\n      <td>0.0</td>\n    </tr>\n    <tr>\n      <th>1001466</th>\n      <td>0.0</td>\n      <td>0.0</td>\n      <td>0.0</td>\n      <td>0.0</td>\n      <td>0.0</td>\n      <td>0.0</td>\n      <td>0.0</td>\n      <td>0.0</td>\n      <td>0.0</td>\n      <td>0.0</td>\n      <td>...</td>\n      <td>0.0</td>\n      <td>8.5</td>\n      <td>0.0</td>\n      <td>10.7</td>\n      <td>0.0</td>\n      <td>0.0</td>\n      <td>0.0</td>\n      <td>0.0</td>\n      <td>0.0</td>\n      <td>0.0</td>\n    </tr>\n    <tr>\n      <th>1001468</th>\n      <td>0.0</td>\n      <td>0.0</td>\n      <td>0.0</td>\n      <td>0.0</td>\n      <td>0.0</td>\n      <td>0.0</td>\n      <td>0.0</td>\n      <td>0.0</td>\n      <td>0.0</td>\n      <td>0.0</td>\n      <td>...</td>\n      <td>0.0</td>\n      <td>0.0</td>\n      <td>10.7</td>\n      <td>0.0</td>\n      <td>10.6</td>\n      <td>0.0</td>\n      <td>0.0</td>\n      <td>0.0</td>\n      <td>0.0</td>\n      <td>0.0</td>\n    </tr>\n    <tr>\n      <th>1001470</th>\n      <td>0.0</td>\n      <td>0.0</td>\n      <td>0.0</td>\n      <td>0.0</td>\n      <td>0.0</td>\n      <td>0.0</td>\n      <td>0.0</td>\n      <td>0.0</td>\n      <td>0.0</td>\n      <td>0.0</td>\n      <td>...</td>\n      <td>0.0</td>\n      <td>0.0</td>\n      <td>0.0</td>\n      <td>10.6</td>\n      <td>0.0</td>\n      <td>16.0</td>\n      <td>0.0</td>\n      <td>0.0</td>\n      <td>0.0</td>\n      <td>0.0</td>\n    </tr>\n    <tr>\n      <th>1001472</th>\n      <td>0.0</td>\n      <td>0.0</td>\n      <td>0.0</td>\n      <td>0.0</td>\n      <td>0.0</td>\n      <td>0.0</td>\n      <td>0.0</td>\n      <td>0.0</td>\n      <td>0.0</td>\n      <td>0.0</td>\n      <td>...</td>\n      <td>0.0</td>\n      <td>0.0</td>\n      <td>0.0</td>\n      <td>0.0</td>\n      <td>16.0</td>\n      <td>0.0</td>\n      <td>0.0</td>\n      <td>0.0</td>\n      <td>0.0</td>\n      <td>0.0</td>\n    </tr>\n    <tr>\n      <th>1001488</th>\n      <td>0.0</td>\n      <td>0.0</td>\n      <td>0.0</td>\n      <td>0.0</td>\n      <td>0.0</td>\n      <td>0.0</td>\n      <td>0.0</td>\n      <td>0.0</td>\n      <td>0.0</td>\n      <td>0.0</td>\n      <td>...</td>\n      <td>0.0</td>\n      <td>0.0</td>\n      <td>0.0</td>\n      <td>0.0</td>\n      <td>0.0</td>\n      <td>0.0</td>\n      <td>0.0</td>\n      <td>0.0</td>\n      <td>0.0</td>\n      <td>4.0</td>\n    </tr>\n    <tr>\n      <th>1004354</th>\n      <td>0.0</td>\n      <td>0.0</td>\n      <td>0.0</td>\n      <td>0.0</td>\n      <td>0.0</td>\n      <td>0.0</td>\n      <td>0.0</td>\n      <td>0.0</td>\n      <td>0.0</td>\n      <td>0.0</td>\n      <td>...</td>\n      <td>0.0</td>\n      <td>0.0</td>\n      <td>0.0</td>\n      <td>0.0</td>\n      <td>0.0</td>\n      <td>0.0</td>\n      <td>0.0</td>\n      <td>0.0</td>\n      <td>2.0</td>\n      <td>2.0</td>\n    </tr>\n    <tr>\n      <th>1004355</th>\n      <td>0.0</td>\n      <td>0.0</td>\n      <td>0.0</td>\n      <td>0.0</td>\n      <td>0.0</td>\n      <td>0.0</td>\n      <td>0.0</td>\n      <td>0.0</td>\n      <td>0.0</td>\n      <td>0.0</td>\n      <td>...</td>\n      <td>0.0</td>\n      <td>0.0</td>\n      <td>0.0</td>\n      <td>0.0</td>\n      <td>0.0</td>\n      <td>0.0</td>\n      <td>0.0</td>\n      <td>2.0</td>\n      <td>0.0</td>\n      <td>0.0</td>\n    </tr>\n    <tr>\n      <th>1004356</th>\n      <td>0.0</td>\n      <td>0.0</td>\n      <td>0.0</td>\n      <td>0.0</td>\n      <td>0.0</td>\n      <td>0.0</td>\n      <td>0.0</td>\n      <td>0.0</td>\n      <td>0.0</td>\n      <td>0.0</td>\n      <td>...</td>\n      <td>0.0</td>\n      <td>0.0</td>\n      <td>0.0</td>\n      <td>0.0</td>\n      <td>0.0</td>\n      <td>0.0</td>\n      <td>4.0</td>\n      <td>2.0</td>\n      <td>0.0</td>\n      <td>0.0</td>\n    </tr>\n  </tbody>\n</table>\n<p>43 rows × 43 columns</p>\n</div>"
     },
     "execution_count": 6,
     "metadata": {},
     "output_type": "execute_result"
    }
   ],
   "source": [
    "                                            #Answer for question 1:Distance Matrix Calculation\n",
    "import pandas as pd\n",
    "import numpy as np\n",
    "\n",
    "def calculate_distance_matrix(df):\n",
    "     \n",
    "    df = pd.read_csv(file_path)\n",
    "    \n",
    "     \n",
    "    unique_ids = sorted(set(df['id_start']).union(set(df['id_end'])))\n",
    "    num_ids = len(unique_ids)\n",
    "    distance_matrix = pd.DataFrame(np.zeros((num_ids, num_ids)), columns=unique_ids, index=unique_ids)\n",
    "\n",
    "    \n",
    "    for idx, row in df.iterrows():\n",
    "        id_start, id_end, distance = row['id_start'], row['id_end'], row['distance']\n",
    "        distance_matrix.loc[id_start, id_end] = distance\n",
    "\n",
    "     \n",
    "    distance_matrix = distance_matrix + distance_matrix.T - np.diag(distance_matrix.values.diagonal())\n",
    "\n",
    "    return distance_matrix\n",
    "\n",
    "resulting_distance_matrix = calculate_distance_matrix(df)\n",
    "resulting_distance_matrix\n"
   ],
   "metadata": {
    "collapsed": false,
    "ExecuteTime": {
     "end_time": "2023-12-09T11:37:45.246721700Z",
     "start_time": "2023-12-09T11:37:45.064075200Z"
    }
   },
   "id": "3e6a60e347a4d5c6"
  },
  {
   "cell_type": "code",
   "execution_count": 7,
   "outputs": [
    {
     "name": "stdout",
     "output_type": "stream",
     "text": [
      "      id_start   id_end  distance\n",
      "0      1001400  1001402       9.7\n",
      "1      1001400  1001404       0.0\n",
      "2      1001400  1001406       0.0\n",
      "3      1001400  1001408       0.0\n",
      "4      1001400  1001410       0.0\n",
      "...        ...      ...       ...\n",
      "1801   1004356  1001470       0.0\n",
      "1802   1004356  1001472       0.0\n",
      "1803   1004356  1001488       4.0\n",
      "1804   1004356  1004354       2.0\n",
      "1805   1004356  1004355       0.0\n",
      "\n",
      "[1806 rows x 3 columns]\n"
     ]
    }
   ],
   "source": [
    "                            #Answer for question2:Unroll Distance Matrix\n",
    "\n",
    "import pandas as pd\n",
    "\n",
    "def unroll_distance_matrix(resulting_distance_matrix):\n",
    "     \n",
    "    unique_ids = resulting_distance_matrix.index.tolist()\n",
    "    unrolled_data = []\n",
    "\n",
    "    \n",
    "    for i in range(len(unique_ids)):\n",
    "        for j in range(len(unique_ids)):\n",
    "            id_start = unique_ids[i]\n",
    "            id_end = unique_ids[j]\n",
    "            distance = resulting_distance_matrix.loc[id_start, id_end]\n",
    "            \n",
    "            if id_start != id_end:\n",
    "                unrolled_data.append([id_start, id_end, distance])\n",
    "\n",
    "    \n",
    "    unrolled_df = pd.DataFrame(unrolled_data, columns=['id_start', 'id_end', 'distance'])\n",
    "    \n",
    "    return unrolled_df\n",
    "\n",
    "\n",
    "unrolled_distances = unroll_distance_matrix(resulting_distance_matrix)\n",
    "unrolled_distances\n"
   ],
   "metadata": {
    "collapsed": false,
    "ExecuteTime": {
     "end_time": "2023-12-09T11:43:13.947549700Z",
     "start_time": "2023-12-09T11:43:13.741948600Z"
    }
   },
   "id": "c0de40ff9f1b44aa"
  },
  {
   "cell_type": "code",
   "execution_count": 10,
   "outputs": [
    {
     "data": {
      "text/plain": "[]"
     },
     "execution_count": 10,
     "metadata": {},
     "output_type": "execute_result"
    }
   ],
   "source": [
    "                                        #Answer for question3:Finding IDs within Percentage Threshold\n",
    "\n",
    "def find_ids_within_ten_percentage_threshold(df, reference_value):\n",
    "    \n",
    "    average_distance = df[df['id_start'] == reference_value]['distance'].mean()\n",
    "    threshold_min = average_distance * 0.9\n",
    "    threshold_max = average_distance * 1.1\n",
    "    \n",
    "    filtered_ids = df[(df['id_start'] != reference_value) & \n",
    "                      (df['distance'] >= threshold_min) & \n",
    "                      (df['distance'] <= threshold_max)]['id_start'].unique()\n",
    "    \n",
    " \n",
    "    sorted_ids_within_threshold = sorted(filtered_ids)\n",
    "    \n",
    "    return sorted_ids_within_threshold\n",
    "\n",
    "\n",
    "for i in range(len(df)):\n",
    "    reference_value = df['id_start'].iloc[i]\n",
    "sorted_ids_within_threshold = find_ids_within_ten_percentage_threshold(unrolled_distances, reference_value)\n",
    "sorted_ids_within_threshold\n"
   ],
   "metadata": {
    "collapsed": false,
    "ExecuteTime": {
     "end_time": "2023-12-09T11:56:16.071389100Z",
     "start_time": "2023-12-09T11:56:15.991987600Z"
    }
   },
   "id": "f39ccc529e9d15a"
  },
  {
   "cell_type": "code",
   "execution_count": 11,
   "outputs": [
    {
     "data": {
      "text/plain": "   id_start   id_end  distance  moto    car     rv    bus  truck\n0   1001400  1001402       9.7  7.76  11.64  14.55  21.34  34.92\n1   1001400  1001404       0.0  0.00   0.00   0.00   0.00   0.00\n2   1001400  1001406       0.0  0.00   0.00   0.00   0.00   0.00\n3   1001400  1001408       0.0  0.00   0.00   0.00   0.00   0.00\n4   1001400  1001410       0.0  0.00   0.00   0.00   0.00   0.00",
      "text/html": "<div>\n<style scoped>\n    .dataframe tbody tr th:only-of-type {\n        vertical-align: middle;\n    }\n\n    .dataframe tbody tr th {\n        vertical-align: top;\n    }\n\n    .dataframe thead th {\n        text-align: right;\n    }\n</style>\n<table border=\"1\" class=\"dataframe\">\n  <thead>\n    <tr style=\"text-align: right;\">\n      <th></th>\n      <th>id_start</th>\n      <th>id_end</th>\n      <th>distance</th>\n      <th>moto</th>\n      <th>car</th>\n      <th>rv</th>\n      <th>bus</th>\n      <th>truck</th>\n    </tr>\n  </thead>\n  <tbody>\n    <tr>\n      <th>0</th>\n      <td>1001400</td>\n      <td>1001402</td>\n      <td>9.7</td>\n      <td>7.76</td>\n      <td>11.64</td>\n      <td>14.55</td>\n      <td>21.34</td>\n      <td>34.92</td>\n    </tr>\n    <tr>\n      <th>1</th>\n      <td>1001400</td>\n      <td>1001404</td>\n      <td>0.0</td>\n      <td>0.00</td>\n      <td>0.00</td>\n      <td>0.00</td>\n      <td>0.00</td>\n      <td>0.00</td>\n    </tr>\n    <tr>\n      <th>2</th>\n      <td>1001400</td>\n      <td>1001406</td>\n      <td>0.0</td>\n      <td>0.00</td>\n      <td>0.00</td>\n      <td>0.00</td>\n      <td>0.00</td>\n      <td>0.00</td>\n    </tr>\n    <tr>\n      <th>3</th>\n      <td>1001400</td>\n      <td>1001408</td>\n      <td>0.0</td>\n      <td>0.00</td>\n      <td>0.00</td>\n      <td>0.00</td>\n      <td>0.00</td>\n      <td>0.00</td>\n    </tr>\n    <tr>\n      <th>4</th>\n      <td>1001400</td>\n      <td>1001410</td>\n      <td>0.0</td>\n      <td>0.00</td>\n      <td>0.00</td>\n      <td>0.00</td>\n      <td>0.00</td>\n      <td>0.00</td>\n    </tr>\n  </tbody>\n</table>\n</div>"
     },
     "execution_count": 11,
     "metadata": {},
     "output_type": "execute_result"
    }
   ],
   "source": [
    "                                 #Answer for question4:Calculate Toll Rate\n",
    "\n",
    "def calculate_toll_rate(df):\n",
    "     \n",
    "    updated_df = df.copy()\n",
    "    rate_coefficients = {\n",
    "        'moto': 0.8,\n",
    "        'car': 1.2,\n",
    "        'rv': 1.5,\n",
    "        'bus': 2.2,\n",
    "        'truck': 3.6\n",
    "    }\n",
    "    \n",
    "     \n",
    "    for vehicle, coefficient in rate_coefficients.items():\n",
    "        updated_df[vehicle] = updated_df['distance'] * coefficient\n",
    "    \n",
    "    return updated_df\n",
    "\n",
    "df_with_toll_rates = calculate_toll_rate(unrolled_distances)\n",
    "df_with_toll_rates.head()\n"
   ],
   "metadata": {
    "collapsed": false,
    "ExecuteTime": {
     "end_time": "2023-12-09T12:01:05.116516300Z",
     "start_time": "2023-12-09T12:01:04.908597700Z"
    }
   },
   "id": "e00e8e64e49e320e"
  },
  {
   "cell_type": "code",
   "execution_count": 12,
   "outputs": [
    {
     "ename": "AttributeError",
     "evalue": "'list' object has no attribute 'iterrows'",
     "output_type": "error",
     "traceback": [
      "\u001B[1;31m---------------------------------------------------------------------------\u001B[0m",
      "\u001B[1;31mAttributeError\u001B[0m                            Traceback (most recent call last)",
      "Cell \u001B[1;32mIn[12], line 59\u001B[0m\n\u001B[0;32m     55\u001B[0m             updated_df\u001B[38;5;241m.\u001B[39mloc[_, vehicle] \u001B[38;5;241m=\u001B[39m rates\n\u001B[0;32m     57\u001B[0m     \u001B[38;5;28;01mreturn\u001B[39;00m updated_df\n\u001B[1;32m---> 59\u001B[0m df_with_time_based_toll_rates \u001B[38;5;241m=\u001B[39m \u001B[43mcalculate_time_based_toll_rates\u001B[49m\u001B[43m(\u001B[49m\u001B[43msorted_ids_within_threshold\u001B[49m\u001B[43m)\u001B[49m\n\u001B[0;32m     60\u001B[0m \u001B[38;5;28mprint\u001B[39m(df_with_time_based_toll_rates\u001B[38;5;241m.\u001B[39mhead())\n",
      "Cell \u001B[1;32mIn[12], line 20\u001B[0m, in \u001B[0;36mcalculate_time_based_toll_rates\u001B[1;34m(df)\u001B[0m\n\u001B[0;32m     16\u001B[0m start_times \u001B[38;5;241m=\u001B[39m [time(\u001B[38;5;241m0\u001B[39m, \u001B[38;5;241m0\u001B[39m, \u001B[38;5;241m0\u001B[39m)] \u001B[38;5;241m*\u001B[39m \u001B[38;5;241m7\u001B[39m\n\u001B[0;32m     17\u001B[0m end_times \u001B[38;5;241m=\u001B[39m [time(\u001B[38;5;241m23\u001B[39m, \u001B[38;5;241m59\u001B[39m, \u001B[38;5;241m59\u001B[39m)] \u001B[38;5;241m*\u001B[39m \u001B[38;5;241m7\u001B[39m\n\u001B[1;32m---> 20\u001B[0m \u001B[38;5;28;01mfor\u001B[39;00m _, row \u001B[38;5;129;01min\u001B[39;00m \u001B[43mupdated_df\u001B[49m\u001B[38;5;241;43m.\u001B[39;49m\u001B[43miterrows\u001B[49m():\n\u001B[0;32m     22\u001B[0m     start_day_list \u001B[38;5;241m=\u001B[39m []\n\u001B[0;32m     23\u001B[0m     end_day_list \u001B[38;5;241m=\u001B[39m []\n",
      "\u001B[1;31mAttributeError\u001B[0m: 'list' object has no attribute 'iterrows'"
     ]
    }
   ],
   "source": [
    " \n",
    "import pandas as pd\n",
    "from datetime import time\n",
    "\n",
    "def calculate_time_based_toll_rates(df):\n",
    "     \n",
    "    updated_df = df.copy()\n",
    "    weekday_ranges = [\n",
    "        (time(0, 0, 0), time(10, 0, 0), 0.8),\n",
    "        (time(10, 0, 0), time(18, 0, 0), 1.2),\n",
    "        (time(18, 0, 0), time(23, 59, 59), 0.8)\n",
    "    ]\n",
    "    weekend_ranges = [(time(0, 0, 0), time(23, 59, 59), 0.7)]\n",
    "    \n",
    "    \n",
    "    days_of_week = ['Monday', 'Tuesday', 'Wednesday', 'Thursday', 'Friday', 'Saturday', 'Sunday']\n",
    "    start_times = [time(0, 0, 0)] * 7\n",
    "    end_times = [time(23, 59, 59)] * 7\n",
    "    \n",
    "  \n",
    "    for _, row in updated_df.iterrows():\n",
    "        \n",
    "        start_day_list = []\n",
    "        end_day_list = []\n",
    "        start_time_list = []\n",
    "        end_time_list = []\n",
    "        \n",
    "        \n",
    "        for i, day in enumerate(days_of_week):\n",
    "             \n",
    "            if day in ['Saturday', 'Sunday']:\n",
    "                time_ranges = weekend_ranges\n",
    "            else:\n",
    "                time_ranges = weekday_ranges\n",
    "            \n",
    "            \n",
    "            for start, end, factor in time_ranges:\n",
    "                start_day_list.extend([day])\n",
    "                end_day_list.extend([day])\n",
    "                start_time_list.extend([start])\n",
    "                end_time_list.extend([end])\n",
    "        \n",
    "         \n",
    "        updated_df.loc[_, 'start_day'] = start_day_list\n",
    "        updated_df.loc[_, 'end_day'] = end_day_list\n",
    "        updated_df.loc[_, 'start_time'] = start_time_list\n",
    "        updated_df.loc[_, 'end_time'] = end_time_list\n",
    "        \n",
    "        \n",
    "        for vehicle in ['moto', 'car', 'rv', 'bus', 'truck']:\n",
    "            rates = []\n",
    "            for i in range(len(start_day_list)):\n",
    "                factor = weekend_ranges[0][2] if start_day_list[i] in ['Saturday', 'Sunday'] else \\\n",
    "                         next(val[2] for val in weekday_ranges if val[0] <= start_time_list[i] <= val[1])\n",
    "                rates.append(row[vehicle] * factor)\n",
    "            updated_df.loc[_, vehicle] = rates\n",
    "    \n",
    "    return updated_df\n",
    "\n",
    "df_with_time_based_toll_rates = calculate_time_based_toll_rates(sorted_ids_within_threshold)\n",
    "print(df_with_time_based_toll_rates.head())\n"
   ],
   "metadata": {
    "collapsed": false,
    "ExecuteTime": {
     "end_time": "2023-12-09T13:15:30.310505700Z",
     "start_time": "2023-12-09T13:15:29.539252300Z"
    }
   },
   "id": "752254b59cdd4a99"
  },
  {
   "cell_type": "code",
   "execution_count": null,
   "outputs": [],
   "source": [],
   "metadata": {
    "collapsed": false
   },
   "id": "595f209e72aa35d7"
  }
 ],
 "metadata": {
  "kernelspec": {
   "display_name": "Python 3",
   "language": "python",
   "name": "python3"
  },
  "language_info": {
   "codemirror_mode": {
    "name": "ipython",
    "version": 2
   },
   "file_extension": ".py",
   "mimetype": "text/x-python",
   "name": "python",
   "nbconvert_exporter": "python",
   "pygments_lexer": "ipython2",
   "version": "2.7.6"
  }
 },
 "nbformat": 4,
 "nbformat_minor": 5
}
