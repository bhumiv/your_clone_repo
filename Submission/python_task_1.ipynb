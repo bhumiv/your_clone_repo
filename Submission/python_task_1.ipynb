{
 "cells": [
  {
   "cell_type": "code",
   "execution_count": 1,
   "id": "initial_id",
   "metadata": {
    "collapsed": true,
    "ExecuteTime": {
     "end_time": "2023-12-09T07:50:09.663418600Z",
     "start_time": "2023-12-09T07:50:06.030923100Z"
    }
   },
   "outputs": [
    {
     "name": "stdout",
     "output_type": "stream",
     "text": [
      "   id_1  id_2  route   moto    car     rv   bus  truck\n",
      "0   829   827      1   2.05   4.14   4.14  10.1   15.2\n",
      "1   829   821      4   6.63  13.26  13.26  32.4   48.5\n",
      "2   829   804      7  14.41  28.92  28.92  64.7   97.0\n",
      "3   829   822      6   5.90  11.81  11.81  28.8   43.2\n",
      "4   829   826      9   2.87   5.81   5.81  14.2   21.2\n"
     ]
    }
   ],
   "source": [
    "import pandas as pd\n",
    "file_path = \"C:\\\\Users\\\\Malli\\\\Downloads\\\\dataset-1 (1).csv\"\n",
    "data = pd.read_csv(file_path)\n",
    "data.head()   \n"
   ]
  },
  {
   "cell_type": "code",
   "execution_count": 2,
   "outputs": [
    {
     "data": {
      "text/plain": "     id_1  id_2  route   moto    car     rv   bus  truck\n0     829   827      1   2.05   4.14   4.14  10.1   15.2\n1     829   821      4   6.63  13.26  13.26  32.4   48.5\n2     829   804      7  14.41  28.92  28.92  64.7   97.0\n3     829   822      6   5.90  11.81  11.81  28.8   43.2\n4     829   826      9   2.87   5.81   5.81  14.2   21.2\n..    ...   ...    ...    ...    ...    ...   ...    ...\n336   803   802      3   1.70   3.40   3.40   6.9   10.3\n337   803   805      4   3.00   6.00   6.00  12.0   17.9\n338   803   825      3  11.59  23.28  23.28  50.1   75.2\n339   803   806      9   3.80   7.70   7.70  15.3   23.0\n340   803   830      1  16.18  32.47  32.47  72.6  108.8\n\n[341 rows x 8 columns]",
      "text/html": "<div>\n<style scoped>\n    .dataframe tbody tr th:only-of-type {\n        vertical-align: middle;\n    }\n\n    .dataframe tbody tr th {\n        vertical-align: top;\n    }\n\n    .dataframe thead th {\n        text-align: right;\n    }\n</style>\n<table border=\"1\" class=\"dataframe\">\n  <thead>\n    <tr style=\"text-align: right;\">\n      <th></th>\n      <th>id_1</th>\n      <th>id_2</th>\n      <th>route</th>\n      <th>moto</th>\n      <th>car</th>\n      <th>rv</th>\n      <th>bus</th>\n      <th>truck</th>\n    </tr>\n  </thead>\n  <tbody>\n    <tr>\n      <th>0</th>\n      <td>829</td>\n      <td>827</td>\n      <td>1</td>\n      <td>2.05</td>\n      <td>4.14</td>\n      <td>4.14</td>\n      <td>10.1</td>\n      <td>15.2</td>\n    </tr>\n    <tr>\n      <th>1</th>\n      <td>829</td>\n      <td>821</td>\n      <td>4</td>\n      <td>6.63</td>\n      <td>13.26</td>\n      <td>13.26</td>\n      <td>32.4</td>\n      <td>48.5</td>\n    </tr>\n    <tr>\n      <th>2</th>\n      <td>829</td>\n      <td>804</td>\n      <td>7</td>\n      <td>14.41</td>\n      <td>28.92</td>\n      <td>28.92</td>\n      <td>64.7</td>\n      <td>97.0</td>\n    </tr>\n    <tr>\n      <th>3</th>\n      <td>829</td>\n      <td>822</td>\n      <td>6</td>\n      <td>5.90</td>\n      <td>11.81</td>\n      <td>11.81</td>\n      <td>28.8</td>\n      <td>43.2</td>\n    </tr>\n    <tr>\n      <th>4</th>\n      <td>829</td>\n      <td>826</td>\n      <td>9</td>\n      <td>2.87</td>\n      <td>5.81</td>\n      <td>5.81</td>\n      <td>14.2</td>\n      <td>21.2</td>\n    </tr>\n    <tr>\n      <th>...</th>\n      <td>...</td>\n      <td>...</td>\n      <td>...</td>\n      <td>...</td>\n      <td>...</td>\n      <td>...</td>\n      <td>...</td>\n      <td>...</td>\n    </tr>\n    <tr>\n      <th>336</th>\n      <td>803</td>\n      <td>802</td>\n      <td>3</td>\n      <td>1.70</td>\n      <td>3.40</td>\n      <td>3.40</td>\n      <td>6.9</td>\n      <td>10.3</td>\n    </tr>\n    <tr>\n      <th>337</th>\n      <td>803</td>\n      <td>805</td>\n      <td>4</td>\n      <td>3.00</td>\n      <td>6.00</td>\n      <td>6.00</td>\n      <td>12.0</td>\n      <td>17.9</td>\n    </tr>\n    <tr>\n      <th>338</th>\n      <td>803</td>\n      <td>825</td>\n      <td>3</td>\n      <td>11.59</td>\n      <td>23.28</td>\n      <td>23.28</td>\n      <td>50.1</td>\n      <td>75.2</td>\n    </tr>\n    <tr>\n      <th>339</th>\n      <td>803</td>\n      <td>806</td>\n      <td>9</td>\n      <td>3.80</td>\n      <td>7.70</td>\n      <td>7.70</td>\n      <td>15.3</td>\n      <td>23.0</td>\n    </tr>\n    <tr>\n      <th>340</th>\n      <td>803</td>\n      <td>830</td>\n      <td>1</td>\n      <td>16.18</td>\n      <td>32.47</td>\n      <td>32.47</td>\n      <td>72.6</td>\n      <td>108.8</td>\n    </tr>\n  </tbody>\n</table>\n<p>341 rows × 8 columns</p>\n</div>"
     },
     "execution_count": 2,
     "metadata": {},
     "output_type": "execute_result"
    }
   ],
   "source": [
    "data\n"
   ],
   "metadata": {
    "collapsed": false,
    "ExecuteTime": {
     "end_time": "2023-12-09T07:50:32.617976600Z",
     "start_time": "2023-12-09T07:50:32.553277400Z"
    }
   },
   "id": "7a3b47c9bc6d89f5"
  },
  {
   "cell_type": "code",
   "execution_count": 15,
   "outputs": [
    {
     "data": {
      "text/plain": "id_2    801    802    803    804    805    806    807    808    809    821  \\\nid_1                                                                         \n801    0.00   2.80   6.00   7.70  11.70  13.40  16.90  19.60  21.00  23.52   \n802    2.80   0.00   3.40   5.20   9.20  10.90  14.30  17.10  18.50  20.92   \n803    6.00   3.40   0.00   2.00   6.00   7.70  11.10  13.90  15.30  17.72   \n804    7.70   5.20   2.00   0.00   4.40   6.10   9.50  12.30  13.70  16.12   \n805   11.70   9.20   6.00   4.40   0.00   2.00   5.40   8.20   9.60  12.02   \n806   13.40  10.90   7.70   6.10   2.00   0.00   3.80   6.60   8.00  10.42   \n807   16.90  14.30  11.10   9.50   5.40   3.80   0.00   2.90   4.30   6.82   \n808   19.60  17.10  13.90  12.30   8.20   6.60   2.90   0.00   1.70   4.12   \n809   21.00  18.50  15.30  13.70   9.60   8.00   4.30   1.70   0.00   2.92   \n821   23.52  20.92  17.72  16.12  12.02  10.42   6.82   4.12   2.92   0.00   \n822   24.67  22.07  18.87  17.27  13.17  11.57   7.97   5.27   4.07   1.80   \n823   26.53  23.93  20.73  19.13  15.03  13.43   9.83   7.13   5.93   3.67   \n824   27.92  25.32  22.12  20.52  16.42   7.80  11.22   8.52   7.32   5.06   \n825   29.08  26.48  23.28  21.68  17.58  15.98  12.38   9.68   8.48   6.22   \n826   30.87  28.27  25.07  23.47  19.37  17.77  14.17  11.47  10.27   8.01   \n827   32.53  29.93  26.73  25.13  21.03  19.43  15.83  13.13  11.93   9.43   \n829   36.32  33.72  30.52  28.92  24.82  23.22  19.62  16.92  15.72  13.26   \n830   38.27  35.67  32.47  30.87  26.77  25.17  21.57  18.87  17.67  15.17   \n831   39.24  36.64  33.44  31.84  27.74  26.14  22.54  19.84  18.64  16.15   \n\nid_2    822    823    824    825    826    827    829    830    831  \nid_1                                                                 \n801   24.67  26.53  27.92  29.08  30.87  32.53  36.32  38.27  39.24  \n802   22.07  23.93  25.32  26.48  28.27  29.93  33.72  35.67  36.64  \n803   18.87  20.73  22.12  23.28  25.07  26.73  30.52  32.47  33.44  \n804   17.27  19.13  20.52  21.68  23.47  25.13  28.92  30.87  31.84  \n805   13.17  15.03  16.42  17.58  19.37  21.03  24.82  26.77  27.74  \n806   11.57  13.43  14.82  15.98  17.77  19.43  23.22  25.17  26.14  \n807    7.97   9.83  11.22  12.38  14.17  15.83  19.62  21.57  22.54  \n808    5.27   7.13   8.52   9.68  11.47  13.13  16.92  18.87  19.84  \n809    4.07   5.93   7.32   8.48  10.27  11.93  15.72  17.67  18.64  \n821    1.80   3.67   5.06   6.22   8.01   9.43  13.26  15.17  16.15  \n822    0.00   2.21   3.60   4.76   6.55   8.00  11.81  13.74  14.68  \n823    2.21   0.00   1.79   2.94   4.74   6.15  10.00  11.89  12.87  \n824    3.60   1.79   0.00   1.71   3.50   4.92   8.77  10.66  11.64  \n825    4.76   2.94   1.71   0.00   2.20   3.65   7.46   9.35  10.33  \n826    6.55   4.74   3.50   2.20   0.00   2.05   5.81   7.71   8.69  \n827    8.00   6.15   4.92   3.65   2.05   0.00   4.14   6.06   7.04  \n829   11.81  10.00  21.40   7.46   5.81   4.14   0.00   2.38   3.36  \n830   13.74  11.89  10.66   0.00   7.71   6.06   2.38   0.00   1.39  \n831   14.68  12.87  11.64  10.33   8.69   7.04   3.36   1.39   0.00  ",
      "text/html": "<div>\n<style scoped>\n    .dataframe tbody tr th:only-of-type {\n        vertical-align: middle;\n    }\n\n    .dataframe tbody tr th {\n        vertical-align: top;\n    }\n\n    .dataframe thead th {\n        text-align: right;\n    }\n</style>\n<table border=\"1\" class=\"dataframe\">\n  <thead>\n    <tr style=\"text-align: right;\">\n      <th>id_2</th>\n      <th>801</th>\n      <th>802</th>\n      <th>803</th>\n      <th>804</th>\n      <th>805</th>\n      <th>806</th>\n      <th>807</th>\n      <th>808</th>\n      <th>809</th>\n      <th>821</th>\n      <th>822</th>\n      <th>823</th>\n      <th>824</th>\n      <th>825</th>\n      <th>826</th>\n      <th>827</th>\n      <th>829</th>\n      <th>830</th>\n      <th>831</th>\n    </tr>\n    <tr>\n      <th>id_1</th>\n      <th></th>\n      <th></th>\n      <th></th>\n      <th></th>\n      <th></th>\n      <th></th>\n      <th></th>\n      <th></th>\n      <th></th>\n      <th></th>\n      <th></th>\n      <th></th>\n      <th></th>\n      <th></th>\n      <th></th>\n      <th></th>\n      <th></th>\n      <th></th>\n      <th></th>\n    </tr>\n  </thead>\n  <tbody>\n    <tr>\n      <th>801</th>\n      <td>0.00</td>\n      <td>2.80</td>\n      <td>6.00</td>\n      <td>7.70</td>\n      <td>11.70</td>\n      <td>13.40</td>\n      <td>16.90</td>\n      <td>19.60</td>\n      <td>21.00</td>\n      <td>23.52</td>\n      <td>24.67</td>\n      <td>26.53</td>\n      <td>27.92</td>\n      <td>29.08</td>\n      <td>30.87</td>\n      <td>32.53</td>\n      <td>36.32</td>\n      <td>38.27</td>\n      <td>39.24</td>\n    </tr>\n    <tr>\n      <th>802</th>\n      <td>2.80</td>\n      <td>0.00</td>\n      <td>3.40</td>\n      <td>5.20</td>\n      <td>9.20</td>\n      <td>10.90</td>\n      <td>14.30</td>\n      <td>17.10</td>\n      <td>18.50</td>\n      <td>20.92</td>\n      <td>22.07</td>\n      <td>23.93</td>\n      <td>25.32</td>\n      <td>26.48</td>\n      <td>28.27</td>\n      <td>29.93</td>\n      <td>33.72</td>\n      <td>35.67</td>\n      <td>36.64</td>\n    </tr>\n    <tr>\n      <th>803</th>\n      <td>6.00</td>\n      <td>3.40</td>\n      <td>0.00</td>\n      <td>2.00</td>\n      <td>6.00</td>\n      <td>7.70</td>\n      <td>11.10</td>\n      <td>13.90</td>\n      <td>15.30</td>\n      <td>17.72</td>\n      <td>18.87</td>\n      <td>20.73</td>\n      <td>22.12</td>\n      <td>23.28</td>\n      <td>25.07</td>\n      <td>26.73</td>\n      <td>30.52</td>\n      <td>32.47</td>\n      <td>33.44</td>\n    </tr>\n    <tr>\n      <th>804</th>\n      <td>7.70</td>\n      <td>5.20</td>\n      <td>2.00</td>\n      <td>0.00</td>\n      <td>4.40</td>\n      <td>6.10</td>\n      <td>9.50</td>\n      <td>12.30</td>\n      <td>13.70</td>\n      <td>16.12</td>\n      <td>17.27</td>\n      <td>19.13</td>\n      <td>20.52</td>\n      <td>21.68</td>\n      <td>23.47</td>\n      <td>25.13</td>\n      <td>28.92</td>\n      <td>30.87</td>\n      <td>31.84</td>\n    </tr>\n    <tr>\n      <th>805</th>\n      <td>11.70</td>\n      <td>9.20</td>\n      <td>6.00</td>\n      <td>4.40</td>\n      <td>0.00</td>\n      <td>2.00</td>\n      <td>5.40</td>\n      <td>8.20</td>\n      <td>9.60</td>\n      <td>12.02</td>\n      <td>13.17</td>\n      <td>15.03</td>\n      <td>16.42</td>\n      <td>17.58</td>\n      <td>19.37</td>\n      <td>21.03</td>\n      <td>24.82</td>\n      <td>26.77</td>\n      <td>27.74</td>\n    </tr>\n    <tr>\n      <th>806</th>\n      <td>13.40</td>\n      <td>10.90</td>\n      <td>7.70</td>\n      <td>6.10</td>\n      <td>2.00</td>\n      <td>0.00</td>\n      <td>3.80</td>\n      <td>6.60</td>\n      <td>8.00</td>\n      <td>10.42</td>\n      <td>11.57</td>\n      <td>13.43</td>\n      <td>14.82</td>\n      <td>15.98</td>\n      <td>17.77</td>\n      <td>19.43</td>\n      <td>23.22</td>\n      <td>25.17</td>\n      <td>26.14</td>\n    </tr>\n    <tr>\n      <th>807</th>\n      <td>16.90</td>\n      <td>14.30</td>\n      <td>11.10</td>\n      <td>9.50</td>\n      <td>5.40</td>\n      <td>3.80</td>\n      <td>0.00</td>\n      <td>2.90</td>\n      <td>4.30</td>\n      <td>6.82</td>\n      <td>7.97</td>\n      <td>9.83</td>\n      <td>11.22</td>\n      <td>12.38</td>\n      <td>14.17</td>\n      <td>15.83</td>\n      <td>19.62</td>\n      <td>21.57</td>\n      <td>22.54</td>\n    </tr>\n    <tr>\n      <th>808</th>\n      <td>19.60</td>\n      <td>17.10</td>\n      <td>13.90</td>\n      <td>12.30</td>\n      <td>8.20</td>\n      <td>6.60</td>\n      <td>2.90</td>\n      <td>0.00</td>\n      <td>1.70</td>\n      <td>4.12</td>\n      <td>5.27</td>\n      <td>7.13</td>\n      <td>8.52</td>\n      <td>9.68</td>\n      <td>11.47</td>\n      <td>13.13</td>\n      <td>16.92</td>\n      <td>18.87</td>\n      <td>19.84</td>\n    </tr>\n    <tr>\n      <th>809</th>\n      <td>21.00</td>\n      <td>18.50</td>\n      <td>15.30</td>\n      <td>13.70</td>\n      <td>9.60</td>\n      <td>8.00</td>\n      <td>4.30</td>\n      <td>1.70</td>\n      <td>0.00</td>\n      <td>2.92</td>\n      <td>4.07</td>\n      <td>5.93</td>\n      <td>7.32</td>\n      <td>8.48</td>\n      <td>10.27</td>\n      <td>11.93</td>\n      <td>15.72</td>\n      <td>17.67</td>\n      <td>18.64</td>\n    </tr>\n    <tr>\n      <th>821</th>\n      <td>23.52</td>\n      <td>20.92</td>\n      <td>17.72</td>\n      <td>16.12</td>\n      <td>12.02</td>\n      <td>10.42</td>\n      <td>6.82</td>\n      <td>4.12</td>\n      <td>2.92</td>\n      <td>0.00</td>\n      <td>1.80</td>\n      <td>3.67</td>\n      <td>5.06</td>\n      <td>6.22</td>\n      <td>8.01</td>\n      <td>9.43</td>\n      <td>13.26</td>\n      <td>15.17</td>\n      <td>16.15</td>\n    </tr>\n    <tr>\n      <th>822</th>\n      <td>24.67</td>\n      <td>22.07</td>\n      <td>18.87</td>\n      <td>17.27</td>\n      <td>13.17</td>\n      <td>11.57</td>\n      <td>7.97</td>\n      <td>5.27</td>\n      <td>4.07</td>\n      <td>1.80</td>\n      <td>0.00</td>\n      <td>2.21</td>\n      <td>3.60</td>\n      <td>4.76</td>\n      <td>6.55</td>\n      <td>8.00</td>\n      <td>11.81</td>\n      <td>13.74</td>\n      <td>14.68</td>\n    </tr>\n    <tr>\n      <th>823</th>\n      <td>26.53</td>\n      <td>23.93</td>\n      <td>20.73</td>\n      <td>19.13</td>\n      <td>15.03</td>\n      <td>13.43</td>\n      <td>9.83</td>\n      <td>7.13</td>\n      <td>5.93</td>\n      <td>3.67</td>\n      <td>2.21</td>\n      <td>0.00</td>\n      <td>1.79</td>\n      <td>2.94</td>\n      <td>4.74</td>\n      <td>6.15</td>\n      <td>10.00</td>\n      <td>11.89</td>\n      <td>12.87</td>\n    </tr>\n    <tr>\n      <th>824</th>\n      <td>27.92</td>\n      <td>25.32</td>\n      <td>22.12</td>\n      <td>20.52</td>\n      <td>16.42</td>\n      <td>7.80</td>\n      <td>11.22</td>\n      <td>8.52</td>\n      <td>7.32</td>\n      <td>5.06</td>\n      <td>3.60</td>\n      <td>1.79</td>\n      <td>0.00</td>\n      <td>1.71</td>\n      <td>3.50</td>\n      <td>4.92</td>\n      <td>8.77</td>\n      <td>10.66</td>\n      <td>11.64</td>\n    </tr>\n    <tr>\n      <th>825</th>\n      <td>29.08</td>\n      <td>26.48</td>\n      <td>23.28</td>\n      <td>21.68</td>\n      <td>17.58</td>\n      <td>15.98</td>\n      <td>12.38</td>\n      <td>9.68</td>\n      <td>8.48</td>\n      <td>6.22</td>\n      <td>4.76</td>\n      <td>2.94</td>\n      <td>1.71</td>\n      <td>0.00</td>\n      <td>2.20</td>\n      <td>3.65</td>\n      <td>7.46</td>\n      <td>9.35</td>\n      <td>10.33</td>\n    </tr>\n    <tr>\n      <th>826</th>\n      <td>30.87</td>\n      <td>28.27</td>\n      <td>25.07</td>\n      <td>23.47</td>\n      <td>19.37</td>\n      <td>17.77</td>\n      <td>14.17</td>\n      <td>11.47</td>\n      <td>10.27</td>\n      <td>8.01</td>\n      <td>6.55</td>\n      <td>4.74</td>\n      <td>3.50</td>\n      <td>2.20</td>\n      <td>0.00</td>\n      <td>2.05</td>\n      <td>5.81</td>\n      <td>7.71</td>\n      <td>8.69</td>\n    </tr>\n    <tr>\n      <th>827</th>\n      <td>32.53</td>\n      <td>29.93</td>\n      <td>26.73</td>\n      <td>25.13</td>\n      <td>21.03</td>\n      <td>19.43</td>\n      <td>15.83</td>\n      <td>13.13</td>\n      <td>11.93</td>\n      <td>9.43</td>\n      <td>8.00</td>\n      <td>6.15</td>\n      <td>4.92</td>\n      <td>3.65</td>\n      <td>2.05</td>\n      <td>0.00</td>\n      <td>4.14</td>\n      <td>6.06</td>\n      <td>7.04</td>\n    </tr>\n    <tr>\n      <th>829</th>\n      <td>36.32</td>\n      <td>33.72</td>\n      <td>30.52</td>\n      <td>28.92</td>\n      <td>24.82</td>\n      <td>23.22</td>\n      <td>19.62</td>\n      <td>16.92</td>\n      <td>15.72</td>\n      <td>13.26</td>\n      <td>11.81</td>\n      <td>10.00</td>\n      <td>21.40</td>\n      <td>7.46</td>\n      <td>5.81</td>\n      <td>4.14</td>\n      <td>0.00</td>\n      <td>2.38</td>\n      <td>3.36</td>\n    </tr>\n    <tr>\n      <th>830</th>\n      <td>38.27</td>\n      <td>35.67</td>\n      <td>32.47</td>\n      <td>30.87</td>\n      <td>26.77</td>\n      <td>25.17</td>\n      <td>21.57</td>\n      <td>18.87</td>\n      <td>17.67</td>\n      <td>15.17</td>\n      <td>13.74</td>\n      <td>11.89</td>\n      <td>10.66</td>\n      <td>0.00</td>\n      <td>7.71</td>\n      <td>6.06</td>\n      <td>2.38</td>\n      <td>0.00</td>\n      <td>1.39</td>\n    </tr>\n    <tr>\n      <th>831</th>\n      <td>39.24</td>\n      <td>36.64</td>\n      <td>33.44</td>\n      <td>31.84</td>\n      <td>27.74</td>\n      <td>26.14</td>\n      <td>22.54</td>\n      <td>19.84</td>\n      <td>18.64</td>\n      <td>16.15</td>\n      <td>14.68</td>\n      <td>12.87</td>\n      <td>11.64</td>\n      <td>10.33</td>\n      <td>8.69</td>\n      <td>7.04</td>\n      <td>3.36</td>\n      <td>1.39</td>\n      <td>0.00</td>\n    </tr>\n  </tbody>\n</table>\n</div>"
     },
     "execution_count": 15,
     "metadata": {},
     "output_type": "execute_result"
    }
   ],
   "source": [
    "               #Answer for the question1: car matrix generation\n",
    "\n",
    "def generate_car_matrix(data):\n",
    "    pivoted = data.pivot(index='id_1', columns='id_2', values='car').fillna(0)\n",
    "    for col in pivoted.columns:\n",
    "        pivoted.loc[col, col] = 0\n",
    "    \n",
    "    return pivoted\n",
    "\n",
    "result_1 = generate_car_matrix(data)\n",
    "result_1\n"
   ],
   "metadata": {
    "collapsed": false,
    "ExecuteTime": {
     "end_time": "2023-12-09T08:25:04.338083900Z",
     "start_time": "2023-12-09T08:25:04.224334500Z"
    }
   },
   "id": "d28c7d83f0c1552"
  },
  {
   "cell_type": "code",
   "execution_count": 6,
   "outputs": [
    {
     "name": "stdout",
     "output_type": "stream",
     "text": [
      "{'high': 56, 'low': 196, 'medium': 89}\n"
     ]
    }
   ],
   "source": [
    "                 #Answer for the question2: Car Type Count Calculation\n",
    "import pandas as pd\n",
    "def get_type_count(data):\n",
    "     \n",
    "    conditions = [\n",
    "        (data['car'] <= 15),\n",
    "        (data['car'] > 15) & (data['car'] <= 25),\n",
    "        (data['car'] > 25)\n",
    "    ]\n",
    "    choices = ['low', 'medium', 'high']\n",
    "    data['car_type'] = pd.Series(pd.cut(data['car'], bins=[-float('inf'), 15, 25, float('inf')], labels=choices))\n",
    "    count_result = data['car_type'].value_counts().to_dict()\n",
    "    count_result = dict(sorted(count_result.items()))\n",
    "\n",
    "    return count_result\n",
    "result = get_type_count(data)\n",
    "print(result)\n"
   ],
   "metadata": {
    "collapsed": false,
    "ExecuteTime": {
     "end_time": "2023-12-09T08:04:42.553592700Z",
     "start_time": "2023-12-09T08:04:42.054477600Z"
    }
   },
   "id": "31d8290efb778982"
  },
  {
   "cell_type": "code",
   "execution_count": 7,
   "outputs": [
    {
     "name": "stdout",
     "output_type": "stream",
     "text": [
      "[2, 7, 12, 17, 25, 30, 54, 64, 70, 97, 144, 145, 149, 154, 160, 201, 206, 210, 215, 234, 235, 245, 250, 309, 314, 319, 322, 323, 334, 340]\n"
     ]
    }
   ],
   "source": [
    "                    #Answer for the question3: Bus Count Index Retrieval\n",
    "def get_bus_indexes(data):\n",
    "    mean_bus = data['bus'].mean()\n",
    "    bus_indexes = data[data['bus'] > 2 * mean_bus].index.tolist()\n",
    "    bus_indexes.sort()   \n",
    "    return bus_indexes\n",
    "\n",
    "result = get_bus_indexes(data)\n",
    "print(result)\n"
   ],
   "metadata": {
    "collapsed": false,
    "ExecuteTime": {
     "end_time": "2023-12-09T08:10:42.724450100Z",
     "start_time": "2023-12-09T08:10:42.624851700Z"
    }
   },
   "id": "366e9314003c94e"
  },
  {
   "cell_type": "code",
   "execution_count": 10,
   "outputs": [
    {
     "name": "stdout",
     "output_type": "stream",
     "text": [
      "[1, 2, 3, 4, 5, 6, 7, 8, 9, 10]\n"
     ]
    }
   ],
   "source": [
    "                        #Answer for the question4: Route Filtering\n",
    "def filter_routes(data):\n",
    "    \n",
    "    route_avg_truck = data.groupby('route')['truck'].mean()\n",
    "\n",
    "    filtered_routes = route_avg_truck[route_avg_truck > 7].index.tolist()\n",
    "    filtered_routes.sort()\n",
    "    \n",
    "    return filtered_routes\n",
    "\n",
    "result = filter_routes(data)\n",
    "print(result)\n"
   ],
   "metadata": {
    "collapsed": false,
    "ExecuteTime": {
     "end_time": "2023-12-09T08:17:00.887621900Z",
     "start_time": "2023-12-09T08:17:00.798584200Z"
    }
   },
   "id": "a73c0841771db1b4"
  },
  {
   "cell_type": "code",
   "execution_count": 16,
   "outputs": [
    {
     "name": "stderr",
     "output_type": "stream",
     "text": [
      "C:\\Users\\Malli\\AppData\\Local\\Temp\\ipykernel_6132\\1795893677.py:4: FutureWarning: DataFrame.applymap has been deprecated. Use DataFrame.map instead.\n",
      "  modified_data = data.applymap(lambda x: x * 0.75 if x > 20 else x * 1.25)\n"
     ]
    },
    {
     "data": {
      "text/plain": "id_2   801   802   803   804   805   806   807   808   809   821   822   823  \\\nid_1                                                                           \n801    0.0   3.5   7.5   9.6  14.6  16.8  21.1  24.5  15.8  17.6  18.5  19.9   \n802    3.5   0.0   4.2   6.5  11.5  13.6  17.9  21.4  23.1  15.7  16.6  17.9   \n803    7.5   4.2   0.0   2.5   7.5   9.6  13.9  17.4  19.1  22.2  23.6  15.5   \n804    9.6   6.5   2.5   0.0   5.5   7.6  11.9  15.4  17.1  20.2  21.6  23.9   \n805   14.6  11.5   7.5   5.5   0.0   2.5   6.8  10.2  12.0  15.0  16.5  18.8   \n806   16.8  13.6   9.6   7.6   2.5   0.0   4.8   8.2  10.0  13.0  14.5  16.8   \n807   21.1  17.9  13.9  11.9   6.8   4.8   0.0   3.6   5.4   8.5  10.0  12.3   \n808   24.5  21.4  17.4  15.4  10.2   8.2   3.6   0.0   2.1   5.2   6.6   8.9   \n809   15.8  23.1  19.1  17.1  12.0  10.0   5.4   2.1   0.0   3.6   5.1   7.4   \n821   17.6  15.7  22.2  20.2  15.0  13.0   8.5   5.2   3.6   0.0   2.2   4.6   \n822   18.5  16.6  23.6  21.6  16.5  14.5  10.0   6.6   5.1   2.2   0.0   2.8   \n823   19.9  17.9  15.5  23.9  18.8  16.8  12.3   8.9   7.4   4.6   2.8   0.0   \n824   20.9  19.0  16.6  15.4  20.5   9.8  14.0  10.6   9.2   6.3   4.5   2.2   \n825   21.8  19.9  17.5  16.3  22.0  20.0  15.5  12.1  10.6   7.8   5.9   3.7   \n826   23.2  21.2  18.8  17.6  24.2  22.2  17.7  14.3  12.8  10.0   8.2   5.9   \n827   24.4  22.4  20.0  18.8  15.8  24.3  19.8  16.4  14.9  11.8  10.0   7.7   \n829   27.2  25.3  22.9  21.7  18.6  17.4  24.5  21.2  19.7  16.6  14.8  12.5   \n830   28.7  26.8  24.4  23.2  20.1  18.9  16.2  23.6  22.1  19.0  17.2  14.9   \n831   29.4  27.5  25.1  23.9  20.8  19.6  16.9  24.8  23.3  20.2  18.4  16.1   \n\nid_2   824   825   826   827   829   830   831  \nid_1                                            \n801   20.9  21.8  23.2  24.4  27.2  28.7  29.4  \n802   19.0  19.9  21.2  22.4  25.3  26.8  27.5  \n803   16.6  17.5  18.8  20.0  22.9  24.4  25.1  \n804   15.4  16.3  17.6  18.8  21.7  23.2  23.9  \n805   20.5  22.0  24.2  15.8  18.6  20.1  20.8  \n806   18.5  20.0  22.2  24.3  17.4  18.9  19.6  \n807   14.0  15.5  17.7  19.8  24.5  16.2  16.9  \n808   10.6  12.1  14.3  16.4  21.2  23.6  24.8  \n809    9.2  10.6  12.8  14.9  19.7  22.1  23.3  \n821    6.3   7.8  10.0  11.8  16.6  19.0  20.2  \n822    4.5   5.9   8.2  10.0  14.8  17.2  18.4  \n823    2.2   3.7   5.9   7.7  12.5  14.9  16.1  \n824    0.0   2.1   4.4   6.2  11.0  13.3  14.6  \n825    2.1   0.0   2.8   4.6   9.3  11.7  12.9  \n826    4.4   2.8   0.0   2.6   7.3   9.6  10.9  \n827    6.2   4.6   2.6   0.0   5.2   7.6   8.8  \n829   16.0   9.3   7.3   5.2   0.0   3.0   4.2  \n830   13.3   0.0   9.6   7.6   3.0   0.0   1.7  \n831   14.6  12.9  10.9   8.8   4.2   1.7   0.0  ",
      "text/html": "<div>\n<style scoped>\n    .dataframe tbody tr th:only-of-type {\n        vertical-align: middle;\n    }\n\n    .dataframe tbody tr th {\n        vertical-align: top;\n    }\n\n    .dataframe thead th {\n        text-align: right;\n    }\n</style>\n<table border=\"1\" class=\"dataframe\">\n  <thead>\n    <tr style=\"text-align: right;\">\n      <th>id_2</th>\n      <th>801</th>\n      <th>802</th>\n      <th>803</th>\n      <th>804</th>\n      <th>805</th>\n      <th>806</th>\n      <th>807</th>\n      <th>808</th>\n      <th>809</th>\n      <th>821</th>\n      <th>822</th>\n      <th>823</th>\n      <th>824</th>\n      <th>825</th>\n      <th>826</th>\n      <th>827</th>\n      <th>829</th>\n      <th>830</th>\n      <th>831</th>\n    </tr>\n    <tr>\n      <th>id_1</th>\n      <th></th>\n      <th></th>\n      <th></th>\n      <th></th>\n      <th></th>\n      <th></th>\n      <th></th>\n      <th></th>\n      <th></th>\n      <th></th>\n      <th></th>\n      <th></th>\n      <th></th>\n      <th></th>\n      <th></th>\n      <th></th>\n      <th></th>\n      <th></th>\n      <th></th>\n    </tr>\n  </thead>\n  <tbody>\n    <tr>\n      <th>801</th>\n      <td>0.0</td>\n      <td>3.5</td>\n      <td>7.5</td>\n      <td>9.6</td>\n      <td>14.6</td>\n      <td>16.8</td>\n      <td>21.1</td>\n      <td>24.5</td>\n      <td>15.8</td>\n      <td>17.6</td>\n      <td>18.5</td>\n      <td>19.9</td>\n      <td>20.9</td>\n      <td>21.8</td>\n      <td>23.2</td>\n      <td>24.4</td>\n      <td>27.2</td>\n      <td>28.7</td>\n      <td>29.4</td>\n    </tr>\n    <tr>\n      <th>802</th>\n      <td>3.5</td>\n      <td>0.0</td>\n      <td>4.2</td>\n      <td>6.5</td>\n      <td>11.5</td>\n      <td>13.6</td>\n      <td>17.9</td>\n      <td>21.4</td>\n      <td>23.1</td>\n      <td>15.7</td>\n      <td>16.6</td>\n      <td>17.9</td>\n      <td>19.0</td>\n      <td>19.9</td>\n      <td>21.2</td>\n      <td>22.4</td>\n      <td>25.3</td>\n      <td>26.8</td>\n      <td>27.5</td>\n    </tr>\n    <tr>\n      <th>803</th>\n      <td>7.5</td>\n      <td>4.2</td>\n      <td>0.0</td>\n      <td>2.5</td>\n      <td>7.5</td>\n      <td>9.6</td>\n      <td>13.9</td>\n      <td>17.4</td>\n      <td>19.1</td>\n      <td>22.2</td>\n      <td>23.6</td>\n      <td>15.5</td>\n      <td>16.6</td>\n      <td>17.5</td>\n      <td>18.8</td>\n      <td>20.0</td>\n      <td>22.9</td>\n      <td>24.4</td>\n      <td>25.1</td>\n    </tr>\n    <tr>\n      <th>804</th>\n      <td>9.6</td>\n      <td>6.5</td>\n      <td>2.5</td>\n      <td>0.0</td>\n      <td>5.5</td>\n      <td>7.6</td>\n      <td>11.9</td>\n      <td>15.4</td>\n      <td>17.1</td>\n      <td>20.2</td>\n      <td>21.6</td>\n      <td>23.9</td>\n      <td>15.4</td>\n      <td>16.3</td>\n      <td>17.6</td>\n      <td>18.8</td>\n      <td>21.7</td>\n      <td>23.2</td>\n      <td>23.9</td>\n    </tr>\n    <tr>\n      <th>805</th>\n      <td>14.6</td>\n      <td>11.5</td>\n      <td>7.5</td>\n      <td>5.5</td>\n      <td>0.0</td>\n      <td>2.5</td>\n      <td>6.8</td>\n      <td>10.2</td>\n      <td>12.0</td>\n      <td>15.0</td>\n      <td>16.5</td>\n      <td>18.8</td>\n      <td>20.5</td>\n      <td>22.0</td>\n      <td>24.2</td>\n      <td>15.8</td>\n      <td>18.6</td>\n      <td>20.1</td>\n      <td>20.8</td>\n    </tr>\n    <tr>\n      <th>806</th>\n      <td>16.8</td>\n      <td>13.6</td>\n      <td>9.6</td>\n      <td>7.6</td>\n      <td>2.5</td>\n      <td>0.0</td>\n      <td>4.8</td>\n      <td>8.2</td>\n      <td>10.0</td>\n      <td>13.0</td>\n      <td>14.5</td>\n      <td>16.8</td>\n      <td>18.5</td>\n      <td>20.0</td>\n      <td>22.2</td>\n      <td>24.3</td>\n      <td>17.4</td>\n      <td>18.9</td>\n      <td>19.6</td>\n    </tr>\n    <tr>\n      <th>807</th>\n      <td>21.1</td>\n      <td>17.9</td>\n      <td>13.9</td>\n      <td>11.9</td>\n      <td>6.8</td>\n      <td>4.8</td>\n      <td>0.0</td>\n      <td>3.6</td>\n      <td>5.4</td>\n      <td>8.5</td>\n      <td>10.0</td>\n      <td>12.3</td>\n      <td>14.0</td>\n      <td>15.5</td>\n      <td>17.7</td>\n      <td>19.8</td>\n      <td>24.5</td>\n      <td>16.2</td>\n      <td>16.9</td>\n    </tr>\n    <tr>\n      <th>808</th>\n      <td>24.5</td>\n      <td>21.4</td>\n      <td>17.4</td>\n      <td>15.4</td>\n      <td>10.2</td>\n      <td>8.2</td>\n      <td>3.6</td>\n      <td>0.0</td>\n      <td>2.1</td>\n      <td>5.2</td>\n      <td>6.6</td>\n      <td>8.9</td>\n      <td>10.6</td>\n      <td>12.1</td>\n      <td>14.3</td>\n      <td>16.4</td>\n      <td>21.2</td>\n      <td>23.6</td>\n      <td>24.8</td>\n    </tr>\n    <tr>\n      <th>809</th>\n      <td>15.8</td>\n      <td>23.1</td>\n      <td>19.1</td>\n      <td>17.1</td>\n      <td>12.0</td>\n      <td>10.0</td>\n      <td>5.4</td>\n      <td>2.1</td>\n      <td>0.0</td>\n      <td>3.6</td>\n      <td>5.1</td>\n      <td>7.4</td>\n      <td>9.2</td>\n      <td>10.6</td>\n      <td>12.8</td>\n      <td>14.9</td>\n      <td>19.7</td>\n      <td>22.1</td>\n      <td>23.3</td>\n    </tr>\n    <tr>\n      <th>821</th>\n      <td>17.6</td>\n      <td>15.7</td>\n      <td>22.2</td>\n      <td>20.2</td>\n      <td>15.0</td>\n      <td>13.0</td>\n      <td>8.5</td>\n      <td>5.2</td>\n      <td>3.6</td>\n      <td>0.0</td>\n      <td>2.2</td>\n      <td>4.6</td>\n      <td>6.3</td>\n      <td>7.8</td>\n      <td>10.0</td>\n      <td>11.8</td>\n      <td>16.6</td>\n      <td>19.0</td>\n      <td>20.2</td>\n    </tr>\n    <tr>\n      <th>822</th>\n      <td>18.5</td>\n      <td>16.6</td>\n      <td>23.6</td>\n      <td>21.6</td>\n      <td>16.5</td>\n      <td>14.5</td>\n      <td>10.0</td>\n      <td>6.6</td>\n      <td>5.1</td>\n      <td>2.2</td>\n      <td>0.0</td>\n      <td>2.8</td>\n      <td>4.5</td>\n      <td>5.9</td>\n      <td>8.2</td>\n      <td>10.0</td>\n      <td>14.8</td>\n      <td>17.2</td>\n      <td>18.4</td>\n    </tr>\n    <tr>\n      <th>823</th>\n      <td>19.9</td>\n      <td>17.9</td>\n      <td>15.5</td>\n      <td>23.9</td>\n      <td>18.8</td>\n      <td>16.8</td>\n      <td>12.3</td>\n      <td>8.9</td>\n      <td>7.4</td>\n      <td>4.6</td>\n      <td>2.8</td>\n      <td>0.0</td>\n      <td>2.2</td>\n      <td>3.7</td>\n      <td>5.9</td>\n      <td>7.7</td>\n      <td>12.5</td>\n      <td>14.9</td>\n      <td>16.1</td>\n    </tr>\n    <tr>\n      <th>824</th>\n      <td>20.9</td>\n      <td>19.0</td>\n      <td>16.6</td>\n      <td>15.4</td>\n      <td>20.5</td>\n      <td>9.8</td>\n      <td>14.0</td>\n      <td>10.6</td>\n      <td>9.2</td>\n      <td>6.3</td>\n      <td>4.5</td>\n      <td>2.2</td>\n      <td>0.0</td>\n      <td>2.1</td>\n      <td>4.4</td>\n      <td>6.2</td>\n      <td>11.0</td>\n      <td>13.3</td>\n      <td>14.6</td>\n    </tr>\n    <tr>\n      <th>825</th>\n      <td>21.8</td>\n      <td>19.9</td>\n      <td>17.5</td>\n      <td>16.3</td>\n      <td>22.0</td>\n      <td>20.0</td>\n      <td>15.5</td>\n      <td>12.1</td>\n      <td>10.6</td>\n      <td>7.8</td>\n      <td>5.9</td>\n      <td>3.7</td>\n      <td>2.1</td>\n      <td>0.0</td>\n      <td>2.8</td>\n      <td>4.6</td>\n      <td>9.3</td>\n      <td>11.7</td>\n      <td>12.9</td>\n    </tr>\n    <tr>\n      <th>826</th>\n      <td>23.2</td>\n      <td>21.2</td>\n      <td>18.8</td>\n      <td>17.6</td>\n      <td>24.2</td>\n      <td>22.2</td>\n      <td>17.7</td>\n      <td>14.3</td>\n      <td>12.8</td>\n      <td>10.0</td>\n      <td>8.2</td>\n      <td>5.9</td>\n      <td>4.4</td>\n      <td>2.8</td>\n      <td>0.0</td>\n      <td>2.6</td>\n      <td>7.3</td>\n      <td>9.6</td>\n      <td>10.9</td>\n    </tr>\n    <tr>\n      <th>827</th>\n      <td>24.4</td>\n      <td>22.4</td>\n      <td>20.0</td>\n      <td>18.8</td>\n      <td>15.8</td>\n      <td>24.3</td>\n      <td>19.8</td>\n      <td>16.4</td>\n      <td>14.9</td>\n      <td>11.8</td>\n      <td>10.0</td>\n      <td>7.7</td>\n      <td>6.2</td>\n      <td>4.6</td>\n      <td>2.6</td>\n      <td>0.0</td>\n      <td>5.2</td>\n      <td>7.6</td>\n      <td>8.8</td>\n    </tr>\n    <tr>\n      <th>829</th>\n      <td>27.2</td>\n      <td>25.3</td>\n      <td>22.9</td>\n      <td>21.7</td>\n      <td>18.6</td>\n      <td>17.4</td>\n      <td>24.5</td>\n      <td>21.2</td>\n      <td>19.7</td>\n      <td>16.6</td>\n      <td>14.8</td>\n      <td>12.5</td>\n      <td>16.0</td>\n      <td>9.3</td>\n      <td>7.3</td>\n      <td>5.2</td>\n      <td>0.0</td>\n      <td>3.0</td>\n      <td>4.2</td>\n    </tr>\n    <tr>\n      <th>830</th>\n      <td>28.7</td>\n      <td>26.8</td>\n      <td>24.4</td>\n      <td>23.2</td>\n      <td>20.1</td>\n      <td>18.9</td>\n      <td>16.2</td>\n      <td>23.6</td>\n      <td>22.1</td>\n      <td>19.0</td>\n      <td>17.2</td>\n      <td>14.9</td>\n      <td>13.3</td>\n      <td>0.0</td>\n      <td>9.6</td>\n      <td>7.6</td>\n      <td>3.0</td>\n      <td>0.0</td>\n      <td>1.7</td>\n    </tr>\n    <tr>\n      <th>831</th>\n      <td>29.4</td>\n      <td>27.5</td>\n      <td>25.1</td>\n      <td>23.9</td>\n      <td>20.8</td>\n      <td>19.6</td>\n      <td>16.9</td>\n      <td>24.8</td>\n      <td>23.3</td>\n      <td>20.2</td>\n      <td>18.4</td>\n      <td>16.1</td>\n      <td>14.6</td>\n      <td>12.9</td>\n      <td>10.9</td>\n      <td>8.8</td>\n      <td>4.2</td>\n      <td>1.7</td>\n      <td>0.0</td>\n    </tr>\n  </tbody>\n</table>\n</div>"
     },
     "execution_count": 16,
     "metadata": {},
     "output_type": "execute_result"
    }
   ],
   "source": [
    "                        #Answer for the question5: Matrix Value Modification\n",
    "def multiply_matrix(data):\n",
    "     \n",
    "    modified_data = data.applymap(lambda x: x * 0.75 if x > 20 else x * 1.25)\n",
    "    modified_data = modified_data.round(1)\n",
    "    \n",
    "    return modified_data\n",
    "\n",
    "\n",
    "modified_result = multiply_matrix(result_1)\n",
    "modified_result\n"
   ],
   "metadata": {
    "collapsed": false,
    "ExecuteTime": {
     "end_time": "2023-12-09T08:26:35.879502600Z",
     "start_time": "2023-12-09T08:26:35.844312500Z"
    }
   },
   "id": "c3e99259667f522b"
  },
  {
   "cell_type": "code",
   "execution_count": 22,
   "outputs": [
    {
     "data": {
      "text/plain": "                  has_incorrect_timestamps\nid      id_2                              \n1014000 -1                            True\n1014002 -1                            True\n1014003 -1                            True\n1030000 -1                            True\n         1030002                      True\n...                                    ...\n1330016  1330006                      True\n         1330008                      True\n         1330010                      True\n         1330012                      True\n         1330014                      True\n\n[9254 rows x 1 columns]",
      "text/html": "<div>\n<style scoped>\n    .dataframe tbody tr th:only-of-type {\n        vertical-align: middle;\n    }\n\n    .dataframe tbody tr th {\n        vertical-align: top;\n    }\n\n    .dataframe thead th {\n        text-align: right;\n    }\n</style>\n<table border=\"1\" class=\"dataframe\">\n  <thead>\n    <tr style=\"text-align: right;\">\n      <th></th>\n      <th></th>\n      <th>has_incorrect_timestamps</th>\n    </tr>\n    <tr>\n      <th>id</th>\n      <th>id_2</th>\n      <th></th>\n    </tr>\n  </thead>\n  <tbody>\n    <tr>\n      <th>1014000</th>\n      <th>-1</th>\n      <td>True</td>\n    </tr>\n    <tr>\n      <th>1014002</th>\n      <th>-1</th>\n      <td>True</td>\n    </tr>\n    <tr>\n      <th>1014003</th>\n      <th>-1</th>\n      <td>True</td>\n    </tr>\n    <tr>\n      <th rowspan=\"2\" valign=\"top\">1030000</th>\n      <th>-1</th>\n      <td>True</td>\n    </tr>\n    <tr>\n      <th>1030002</th>\n      <td>True</td>\n    </tr>\n    <tr>\n      <th>...</th>\n      <th>...</th>\n      <td>...</td>\n    </tr>\n    <tr>\n      <th rowspan=\"5\" valign=\"top\">1330016</th>\n      <th>1330006</th>\n      <td>True</td>\n    </tr>\n    <tr>\n      <th>1330008</th>\n      <td>True</td>\n    </tr>\n    <tr>\n      <th>1330010</th>\n      <td>True</td>\n    </tr>\n    <tr>\n      <th>1330012</th>\n      <td>True</td>\n    </tr>\n    <tr>\n      <th>1330014</th>\n      <td>True</td>\n    </tr>\n  </tbody>\n</table>\n<p>9254 rows × 1 columns</p>\n</div>"
     },
     "execution_count": 22,
     "metadata": {},
     "output_type": "execute_result"
    }
   ],
   "source": [
    "                                #Answer for question6: Time Check\n",
    "\n",
    "import pandas as pd\n",
    "\n",
    "def verify_time_completeness(df):\n",
    "    df['start_timestamp'] = pd.to_datetime(df['startDay'] + ' ' + df['startTime'], format='%A %H:%M:%S')\n",
    "    df['end_timestamp'] = pd.to_datetime(df['endDay'] + ' ' + df['endTime'], format='%A %H:%M:%S')\n",
    "\n",
    "    df['duration'] = (df['end_timestamp'] - df['start_timestamp']).dt.total_seconds()\n",
    "\n",
    "    grouped = df.groupby(['id', 'id_2']).apply(lambda x: check_completeness(x))\n",
    "    \n",
    "    return grouped\n",
    "\n",
    "def check_completeness(group):\n",
    "     \n",
    "    unique_days = group['start_timestamp'].dt.dayofweek.nunique()\n",
    "    \n",
    "    \n",
    "    full_day = (group['duration'] >= 86400).all()  # 86400 seconds = 24 hours\n",
    "    \n",
    "    return pd.Series({'has_incorrect_timestamps': not (unique_days == 7 and full_day)})\n",
    "\n",
    "\n",
    "file_path = \"C:\\\\Users\\\\Malli\\\\Downloads\\\\dataset-2.csv\"\n",
    "df = pd.read_csv(file_path)\n",
    "result = verify_time_completeness(df)\n",
    "result\n"
   ],
   "metadata": {
    "collapsed": false,
    "ExecuteTime": {
     "end_time": "2023-12-09T08:39:14.994577200Z",
     "start_time": "2023-12-09T08:39:04.794821200Z"
    }
   },
   "id": "615588155d4641a2"
  },
  {
   "cell_type": "code",
   "execution_count": null,
   "outputs": [],
   "source": [],
   "metadata": {
    "collapsed": false
   },
   "id": "908958b346ce62dd"
  },
  {
   "cell_type": "code",
   "execution_count": null,
   "outputs": [],
   "source": [],
   "metadata": {
    "collapsed": false
   },
   "id": "6e093de2396ce3b9"
  },
  {
   "cell_type": "code",
   "execution_count": null,
   "outputs": [],
   "source": [],
   "metadata": {
    "collapsed": false
   },
   "id": "6a5398984ab6931f"
  }
 ],
 "metadata": {
  "kernelspec": {
   "display_name": "Python 3",
   "language": "python",
   "name": "python3"
  },
  "language_info": {
   "codemirror_mode": {
    "name": "ipython",
    "version": 2
   },
   "file_extension": ".py",
   "mimetype": "text/x-python",
   "name": "python",
   "nbconvert_exporter": "python",
   "pygments_lexer": "ipython2",
   "version": "2.7.6"
  }
 },
 "nbformat": 4,
 "nbformat_minor": 5
}
